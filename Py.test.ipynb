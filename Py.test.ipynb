{
 "cells": [
  {
   "cell_type": "code",
   "execution_count": 9,
   "metadata": {
    "collapsed": false,
    "slideshow": {
     "slide_type": "skip"
    }
   },
   "outputs": [
    {
     "name": "stdout",
     "output_type": "stream",
     "text": [
      "Collecting pytest\n",
      "  Downloading pytest-3.0.6-py2.py3-none-any.whl (172kB)\n",
      "\u001b[K    100% |████████████████████████████████| 174kB 2.5MB/s ta 0:00:01\n",
      "\u001b[?25hCollecting setuptools (from pytest)\n",
      "  Downloading setuptools-34.2.0-py2.py3-none-any.whl (389kB)\n",
      "\u001b[K    100% |████████████████████████████████| 399kB 1.4MB/s ta 0:00:011\n",
      "\u001b[?25hCollecting py>=1.4.29 (from pytest)\n",
      "  Downloading py-1.4.32-py2.py3-none-any.whl (82kB)\n",
      "\u001b[K    100% |████████████████████████████████| 92kB 5.0MB/s ta 0:00:011\n",
      "\u001b[?25hCollecting packaging>=16.8 (from setuptools->pytest)\n",
      "  Downloading packaging-16.8-py2.py3-none-any.whl\n",
      "Requirement already up-to-date: six>=1.6.0 in /opt/conda/lib/python2.7/site-packages (from setuptools->pytest)\n",
      "Collecting appdirs>=1.4.0 (from setuptools->pytest)\n",
      "  Downloading appdirs-1.4.0-py2.py3-none-any.whl\n",
      "Collecting pyparsing (from packaging>=16.8->setuptools->pytest)\n",
      "  Downloading pyparsing-2.1.10-py2.py3-none-any.whl (56kB)\n",
      "\u001b[K    100% |████████████████████████████████| 61kB 4.8MB/s eta 0:00:01\n",
      "\u001b[?25hInstalling collected packages: pyparsing, packaging, appdirs, setuptools, py, pytest\n",
      "  Found existing installation: pyparsing 2.1.4\n",
      "    Uninstalling pyparsing-2.1.4:\n",
      "      Successfully uninstalled pyparsing-2.1.4\n",
      "  Found existing installation: setuptools 20.3\n",
      "    Uninstalling setuptools-20.3:\n",
      "      Successfully uninstalled setuptools-20.3\n",
      "Successfully installed appdirs packaging py pyparsing pytest setuptools\n",
      "Traceback (most recent call last):\n",
      "  File \"/opt/conda/bin/pip\", line 6, in <module>\n",
      "    sys.exit(pip.main())\n",
      "  File \"/opt/conda/lib/python2.7/site-packages/pip/__init__.py\", line 217, in main\n",
      "    return command.main(cmd_args)\n",
      "  File \"/opt/conda/lib/python2.7/site-packages/pip/basecommand.py\", line 246, in main\n",
      "    pip_version_check(session)\n",
      "  File \"/opt/conda/lib/python2.7/site-packages/pip/utils/outdated.py\", line 102, in pip_version_check\n",
      "    installed_version = get_installed_version(\"pip\")\n",
      "  File \"/opt/conda/lib/python2.7/site-packages/pip/utils/__init__.py\", line 848, in get_installed_version\n",
      "    working_set = pkg_resources.WorkingSet()\n",
      "  File \"/opt/conda/lib/python2.7/site-packages/pip/_vendor/pkg_resources/__init__.py\", line 626, in __init__\n",
      "    self.add_entry(entry)\n",
      "  File \"/opt/conda/lib/python2.7/site-packages/pip/_vendor/pkg_resources/__init__.py\", line 682, in add_entry\n",
      "    for dist in find_distributions(entry, True):\n",
      "  File \"/opt/conda/lib/python2.7/site-packages/pip/_vendor/pkg_resources/__init__.py\", line 2080, in find_eggs_in_zip\n",
      "    if metadata.has_metadata('PKG-INFO'):\n",
      "  File \"/opt/conda/lib/python2.7/site-packages/pip/_vendor/pkg_resources/__init__.py\", line 1610, in has_metadata\n",
      "    return self.egg_info and self._has(self._fn(self.egg_info, name))\n",
      "  File \"/opt/conda/lib/python2.7/site-packages/pip/_vendor/pkg_resources/__init__.py\", line 1968, in _has\n",
      "    return zip_path in self.zipinfo or zip_path in self._index()\n",
      "  File \"/opt/conda/lib/python2.7/site-packages/pip/_vendor/pkg_resources/__init__.py\", line 1848, in zipinfo\n",
      "    return self._zip_manifests.load(self.loader.archive)\n",
      "  File \"/opt/conda/lib/python2.7/site-packages/pip/_vendor/pkg_resources/__init__.py\", line 1788, in load\n",
      "    mtime = os.stat(path).st_mtime\n",
      "OSError: [Errno 2] No such file or directory: '/opt/conda/lib/python2.7/site-packages/setuptools-20.3-py2.7.egg'\n"
     ]
    }
   ],
   "source": [
    "# !pip install -U pytest"
   ]
  },
  {
   "cell_type": "markdown",
   "metadata": {
    "slideshow": {
     "slide_type": "slide"
    }
   },
   "source": [
    "# Pytest intro"
   ]
  },
  {
   "cell_type": "markdown",
   "metadata": {
    "slideshow": {
     "slide_type": "slide"
    }
   },
   "source": [
    "## What is pytest?"
   ]
  },
  {
   "cell_type": "markdown",
   "metadata": {
    "slideshow": {
     "slide_type": "fragment"
    }
   },
   "source": [
    "- a test runner:\n",
    "\n",
    "\"The pytest framework makes it easy to write small tests, yet scales to support complex functional testing for applications and libraries.\""
   ]
  },
  {
   "cell_type": "markdown",
   "metadata": {
    "slideshow": {
     "slide_type": "slide"
    }
   },
   "source": [
    "##  Why pytest?"
   ]
  },
  {
   "cell_type": "markdown",
   "metadata": {
    "slideshow": {
     "slide_type": "fragment"
    }
   },
   "source": [
    "- simple enough to be learnt in 1 day\n",
    "- many functionnalities that cover a lot of needs\n",
    "- integration with coveralls, codecov, etc"
   ]
  },
  {
   "cell_type": "markdown",
   "metadata": {
    "slideshow": {
     "slide_type": "slide"
    }
   },
   "source": [
    "## Simple test"
   ]
  },
  {
   "cell_type": "code",
   "execution_count": 2,
   "metadata": {
    "collapsed": true,
    "slideshow": {
     "slide_type": "fragment"
    }
   },
   "outputs": [],
   "source": [
    "# content of test_sample.py\n",
    "def func(x):\n",
    "    return x + 1\n",
    "\n",
    "def test_answer():\n",
    "    assert func(3) == 5"
   ]
  },
  {
   "cell_type": "raw",
   "metadata": {
    "slideshow": {
     "slide_type": "fragment"
    }
   },
   "source": [
    "$ pytest\n",
    "======= test session starts ========\n",
    "platform linux -- Python 3.5.2, pytest-3.0.6, py-1.4.33, pluggy-0.4.0\n",
    "rootdir: $REGENDOC_TMPDIR, inifile:\n",
    "collected 1 items\n",
    "\n",
    "test_sample.py F\n",
    "\n",
    "======= FAILURES ========\n",
    "_______ test_answer ________\n",
    "\n",
    "    def test_answer():\n",
    ">       assert func(3) == 5\n",
    "E       assert 4 == 5\n",
    "E        +  where 4 = func(3)\n",
    "\n",
    "test_sample.py:5: AssertionError\n",
    "======= 1 failed in 0.12 seconds ========"
   ]
  },
  {
   "cell_type": "markdown",
   "metadata": {
    "slideshow": {
     "slide_type": "slide"
    }
   },
   "source": [
    "## Test class"
   ]
  },
  {
   "cell_type": "code",
   "execution_count": 3,
   "metadata": {
    "collapsed": true,
    "slideshow": {
     "slide_type": "fragment"
    }
   },
   "outputs": [],
   "source": [
    "# content of test_class.py\n",
    "class TestClass:\n",
    "    def test_one(self):\n",
    "        x = \"this\"\n",
    "        assert 'h' in x\n",
    "\n",
    "    def test_two(self):\n",
    "        x = \"hello\"\n",
    "        assert hasattr(x, 'check')"
   ]
  },
  {
   "cell_type": "raw",
   "metadata": {
    "slideshow": {
     "slide_type": "fragment"
    }
   },
   "source": [
    "$ pytest -q test_class.py\n",
    ".F\n",
    "======= FAILURES ========\n",
    "_______ TestClass.test_two ________\n",
    "\n",
    "self = <test_class.TestClass object at 0xdeadbeef>\n",
    "\n",
    "    def test_two(self):\n",
    "        x = \"hello\"\n",
    ">       assert hasattr(x, 'check')\n",
    "E       assert False\n",
    "E        +  where False = hasattr('hello', 'check')\n",
    "\n",
    "test_class.py:8: AssertionError\n",
    "1 failed, 1 passed in 0.12 seconds"
   ]
  },
  {
   "cell_type": "markdown",
   "metadata": {
    "slideshow": {
     "slide_type": "slide"
    }
   },
   "source": [
    "## Functionnalities"
   ]
  },
  {
   "cell_type": "markdown",
   "metadata": {
    "slideshow": {
     "slide_type": "fragment"
    }
   },
   "source": [
    "- `-k regexp`\n",
    "- `--durations=n`\n",
    "- `pytest.mark.skip` and `pytest.mark.skipif`\n",
    "- fixtures"
   ]
  },
  {
   "cell_type": "markdown",
   "metadata": {
    "slideshow": {
     "slide_type": "slide"
    }
   },
   "source": [
    "### Run selected tests with a regexp"
   ]
  },
  {
   "cell_type": "raw",
   "metadata": {
    "slideshow": {
     "slide_type": "fragment"
    }
   },
   "source": [
    "$ pytest -v -k http  # running with the above defined example module\n",
    "======= test session starts ========\n",
    "platform linux -- Python 3.5.2, pytest-3.0.6, py-1.4.33, pluggy-0.4.0 -- $PYTHON_PREFIX/bin/python3.5m\n",
    "cachedir: .cache\n",
    "rootdir: $REGENDOC_TMPDIR, inifile:\n",
    "collecting ... collected 4 items\n",
    "\n",
    "test_server.py::test_send_http PASSED\n",
    "\n",
    "======= 3 tests deselected ========\n",
    "======= 1 passed, 3 deselected in 0.12 seconds ========"
   ]
  },
  {
   "cell_type": "markdown",
   "metadata": {
    "slideshow": {
     "slide_type": "slide"
    }
   },
   "source": [
    "### Profile test duration"
   ]
  },
  {
   "cell_type": "code",
   "execution_count": 4,
   "metadata": {
    "collapsed": true,
    "slideshow": {
     "slide_type": "fragment"
    }
   },
   "outputs": [],
   "source": [
    "# content of test_some_are_slow.py\n",
    "import time\n",
    "\n",
    "def test_funcfast():\n",
    "    pass\n",
    "\n",
    "def test_funcslow1():\n",
    "    time.sleep(0.1)\n",
    "\n",
    "def test_funcslow2():\n",
    "    time.sleep(0.2)"
   ]
  },
  {
   "cell_type": "raw",
   "metadata": {
    "slideshow": {
     "slide_type": "fragment"
    }
   },
   "source": [
    "$ pytest --durations=3\n",
    "======= test session starts ========\n",
    "platform linux -- Python 3.5.2, pytest-3.0.6, py-1.4.33, pluggy-0.4.0\n",
    "rootdir: $REGENDOC_TMPDIR, inifile:\n",
    "collected 3 items\n",
    "\n",
    "test_some_are_slow.py ...\n",
    "\n",
    "======= slowest 3 test durations ========\n",
    "0.20s call     test_some_are_slow.py::test_funcslow2\n",
    "0.10s call     test_some_are_slow.py::test_funcslow1\n",
    "0.00s setup    test_some_are_slow.py::test_funcfast\n",
    "======= 3 passed in 0.12 seconds ========"
   ]
  },
  {
   "cell_type": "markdown",
   "metadata": {
    "slideshow": {
     "slide_type": "slide"
    }
   },
   "source": [
    "### Skip tests with `skip` or `skipif`"
   ]
  },
  {
   "cell_type": "code",
   "execution_count": 10,
   "metadata": {
    "collapsed": false,
    "slideshow": {
     "slide_type": "fragment"
    }
   },
   "outputs": [],
   "source": [
    "import pytest\n",
    "\n",
    "@pytest.mark.skip(reason=\"no way of currently testing this\")\n",
    "def test_the_unknown():\n",
    "    pass\n",
    "\n",
    "import sys\n",
    "@pytest.mark.skipif(sys.version_info < (3,3),\n",
    "                    reason=\"requires python3.3\")\n",
    "def test_function():\n",
    "    pass"
   ]
  },
  {
   "cell_type": "markdown",
   "metadata": {
    "slideshow": {
     "slide_type": "slide"
    }
   },
   "source": [
    "## Applied example"
   ]
  },
  {
   "cell_type": "markdown",
   "metadata": {
    "slideshow": {
     "slide_type": "fragment"
    }
   },
   "source": [
    "[code](https://github.com/tboquet/python-alp/blob/master/tests/backend/test_keras_backend.py#L188-L215)\n",
    "\n",
    "[tests results](https://travis-ci.org/tboquet/python-alp/jobs/200229153#L635)"
   ]
  },
  {
   "cell_type": "markdown",
   "metadata": {
    "slideshow": {
     "slide_type": "slide"
    }
   },
   "source": [
    "# Thank you!"
   ]
  }
 ],
 "metadata": {
  "celltoolbar": "Slideshow",
  "kernelspec": {
   "display_name": "Python 2",
   "language": "python",
   "name": "python2"
  },
  "language_info": {
   "codemirror_mode": {
    "name": "ipython",
    "version": 2
   },
   "file_extension": ".py",
   "mimetype": "text/x-python",
   "name": "python",
   "nbconvert_exporter": "python",
   "pygments_lexer": "ipython2",
   "version": "2.7.13"
  }
 },
 "nbformat": 4,
 "nbformat_minor": 2
}
