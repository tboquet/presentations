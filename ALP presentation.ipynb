{
 "cells": [
  {
   "cell_type": "markdown",
   "metadata": {
    "slideshow": {
     "slide_type": "slide"
    }
   },
   "source": [
    "# How to organise machine learning experiments?\n",
    "\n",
    "\n",
    "Thomas Boquet\n",
    "\n",
    "\n",
    "github: [@tboquet](https://github.com/tboquet)"
   ]
  },
  {
   "cell_type": "markdown",
   "metadata": {
    "slideshow": {
     "slide_type": "subslide"
    }
   },
   "source": [
    "## Problems?"
   ]
  },
  {
   "cell_type": "markdown",
   "metadata": {
    "slideshow": {
     "slide_type": "fragment"
    }
   },
   "source": [
    "- Training **complex** machine learning **models** could take some **time** and **ressources**."
   ]
  },
  {
   "cell_type": "markdown",
   "metadata": {
    "slideshow": {
     "slide_type": "fragment"
    }
   },
   "source": [
    "- It's **not efficient** for one researcher to run **several scripts sequentially** on a server."
   ]
  },
  {
   "cell_type": "markdown",
   "metadata": {
    "slideshow": {
     "slide_type": "fragment"
    }
   },
   "source": [
    "- When you are in a team with **multiple researchers** using **multiple (GPU) servers** it becomes **a mess**."
   ]
  },
  {
   "cell_type": "markdown",
   "metadata": {
    "slideshow": {
     "slide_type": "fragment"
    }
   },
   "source": [
    "- You also need to **save** the architecture, the parameters and more **infos** (data, dependencies, etc) about each **model**."
   ]
  },
  {
   "cell_type": "markdown",
   "metadata": {
    "slideshow": {
     "slide_type": "fragment"
    }
   },
   "source": [
    "- The servers have to be configured (CUDA, Theano, etc.)"
   ]
  },
  {
   "cell_type": "markdown",
   "metadata": {
    "slideshow": {
     "slide_type": "subslide"
    }
   },
   "source": [
    "![image](http://images.techtimes.com/data/images/full/146106/macgyver-jpg.jpg)"
   ]
  },
  {
   "cell_type": "markdown",
   "metadata": {
    "slideshow": {
     "slide_type": "subslide"
    }
   },
   "source": [
    "It's **possible** to:"
   ]
  },
  {
   "cell_type": "markdown",
   "metadata": {
    "slideshow": {
     "slide_type": "fragment"
    }
   },
   "source": [
    "- **assign hardware** from the same machine or from **several servers** to an application (nvidia-docker)"
   ]
  },
  {
   "cell_type": "markdown",
   "metadata": {
    "slideshow": {
     "slide_type": "fragment"
    }
   },
   "source": [
    "- **save all the info** in a database"
   ]
  },
  {
   "cell_type": "markdown",
   "metadata": {
    "slideshow": {
     "slide_type": "fragment"
    }
   },
   "source": [
    "- retrieve the info, **rebuild the same models** and serve them in a **production pipeline**!\n",
    "\n",
    "*(like TensorFlow Serving...)*"
   ]
  },
  {
   "cell_type": "markdown",
   "metadata": {
    "slideshow": {
     "slide_type": "fragment"
    }
   },
   "source": [
    "### Let's do this using a simple API!"
   ]
  },
  {
   "cell_type": "markdown",
   "metadata": {
    "slideshow": {
     "slide_type": "slide"
    }
   },
   "source": [
    "# ALP"
   ]
  },
  {
   "cell_type": "markdown",
   "metadata": {
    "slideshow": {
     "slide_type": "subslide"
    }
   },
   "source": [
    "## How to use it?"
   ]
  },
  {
   "cell_type": "markdown",
   "metadata": {
    "slideshow": {
     "slide_type": "fragment"
    }
   },
   "source": [
    "(after the setup)"
   ]
  },
  {
   "cell_type": "markdown",
   "metadata": {
    "slideshow": {
     "slide_type": "subslide"
    }
   },
   "source": [
    "### Imports"
   ]
  },
  {
   "cell_type": "code",
   "execution_count": 1,
   "metadata": {
    "collapsed": false,
    "slideshow": {
     "slide_type": "fragment"
    }
   },
   "outputs": [
    {
     "name": "stderr",
     "output_type": "stream",
     "text": [
      "Using Theano backend.\n",
      "Using gpu device 0: GeForce GTX 980 Ti (CNMeM is disabled, cuDNN 5005)\n"
     ]
    }
   ],
   "source": [
    "import matplotlib.pyplot as plt\n",
    "%matplotlib inline\n",
    "\n",
    "from keras.layers import Dense\n",
    "from keras.layers import Input, Lambda\n",
    "from keras.models import Model\n",
    "from keras.models import Sequential\n",
    "from keras.utils import np_utils\n",
    "from keras.utils.test_utils import get_test_data\n",
    "import numpy as np\n",
    "\n",
    "from alp.appcom.core import Experiment"
   ]
  },
  {
   "cell_type": "markdown",
   "metadata": {
    "slideshow": {
     "slide_type": "subslide"
    }
   },
   "source": [
    "### Fake data stuff"
   ]
  },
  {
   "cell_type": "code",
   "execution_count": 2,
   "metadata": {
    "collapsed": true,
    "slideshow": {
     "slide_type": "fragment"
    }
   },
   "outputs": [],
   "source": [
    "np.random.seed(1337)\n",
    "\n",
    "\n",
    "input_dim = 2\n",
    "nb_hidden = 4\n",
    "nb_class = 10\n",
    "batch_size = 128\n",
    "train_samples = 40000\n",
    "test_samples = 2000"
   ]
  },
  {
   "cell_type": "code",
   "execution_count": 3,
   "metadata": {
    "collapsed": false,
    "slideshow": {
     "slide_type": "subslide"
    }
   },
   "outputs": [],
   "source": [
    "(X_tr, y_tr), (X_te, y_te) = get_test_data(nb_train=train_samples,\n",
    "                                            nb_test=test_samples,\n",
    "                                            input_shape=(input_dim,),\n",
    "                                            classification=True,\n",
    "                                            nb_class=nb_class)\n",
    "\n",
    "y_tr = np_utils.to_categorical(y_tr)\n",
    "y_te = np_utils.to_categorical(y_te)\n",
    "\n",
    "data, data_val = dict(), dict()\n",
    "\n",
    "data[\"X\"] = X_tr\n",
    "data[\"y\"] = y_tr\n",
    "\n",
    "data_val[\"X\"] = X_te\n",
    "data_val[\"y\"] = y_te\n",
    "\n",
    "\n",
    "metrics = ['accuracy']"
   ]
  },
  {
   "cell_type": "markdown",
   "metadata": {
    "slideshow": {
     "slide_type": "subslide"
    }
   },
   "source": [
    "### Model!"
   ]
  },
  {
   "cell_type": "code",
   "execution_count": 4,
   "metadata": {
    "collapsed": true,
    "slideshow": {
     "slide_type": "fragment"
    }
   },
   "outputs": [],
   "source": [
    "model = Sequential()\n",
    "model.add(Dense(nb_hidden, input_dim=input_dim, activation='relu'))\n",
    "model.add(Lambda(lambda x: x + x**2 + x**3))\n",
    "model.add(Dense(nb_class, activation='softmax'))\n",
    "model.compile(loss='categorical_crossentropy',\n",
    "              optimizer='rmsprop',\n",
    "              metrics=['accuracy'])\n",
    "\n",
    "expe = Experiment(model)"
   ]
  },
  {
   "cell_type": "code",
   "execution_count": 5,
   "metadata": {
    "collapsed": false,
    "slideshow": {
     "slide_type": "subslide"
    }
   },
   "outputs": [
    {
     "name": "stdout",
     "output_type": "stream",
     "text": [
      "Fontconfig warning: ignoring C.UTF-8: not a valid language tag\n",
      "\n"
     ]
    },
    {
     "data": {
      "image/png": "[encoded data removed]",
      "text/plain": [
       "<IPython.core.display.Image object>"
      ]
     },
     "execution_count": 5,
     "metadata": {},
     "output_type": "execute_result"
    }
   ],
   "source": [
    "from IPython.display import Image\n",
    "from keras.utils.visualize_util import model_to_dot\n",
    "\n",
    "Image(model_to_dot(model, show_shapes=True).create(prog='dot', format='png'))"
   ]
  },
  {
   "cell_type": "markdown",
   "metadata": {
    "slideshow": {
     "slide_type": "subslide"
    }
   },
   "source": [
    "### Simple fit"
   ]
  },
  {
   "cell_type": "code",
   "execution_count": 6,
   "metadata": {
    "collapsed": false,
    "slideshow": {
     "slide_type": "fragment"
    }
   },
   "outputs": [],
   "source": [
    "history_1 = expe.fit([data], [data_val], nb_epoch=40, batch_size=batch_size, verbose=0)"
   ]
  },
  {
   "cell_type": "code",
   "execution_count": 7,
   "metadata": {
    "collapsed": false,
    "slideshow": {
     "slide_type": "subslide"
    }
   },
   "outputs": [
    {
     "data": {
      "image/png": "[encoded data removed]",
      "text/plain": [
       "<matplotlib.figure.Figure at 0x7f31cc07ac10>"
      ]
     },
     "metadata": {},
     "output_type": "display_data"
    }
   ],
   "source": [
    "fig = plt.figure(figsize=(12,8))\n",
    "plt.style.use('ggplot')\n",
    "plt.plot(history_1['metrics'][\"val_loss\"], dashes=[8,2], linewidth=2, label=\"Validation loss\")\n",
    "plt.plot(history_1['metrics'][\"loss\"], linewidth=2, label=\"Loss\")\n",
    "plt.legend()\n",
    "plt.show()"
   ]
  },
  {
   "cell_type": "markdown",
   "metadata": {
    "slideshow": {
     "slide_type": "subslide"
    }
   },
   "source": [
    "### In async mode!"
   ]
  },
  {
   "cell_type": "code",
   "execution_count": 8,
   "metadata": {
    "collapsed": false,
    "slideshow": {
     "slide_type": "fragment"
    }
   },
   "outputs": [
    {
     "data": {
      "text/plain": [
       "<AsyncResult: 5c427083-6d01-45a0-9fee-cc3184cd5545>"
      ]
     },
     "execution_count": 8,
     "metadata": {},
     "output_type": "execute_result"
    },
    {
     "name": "stdout",
     "output_type": "stream",
     "text": [
      "Result d36769605b9c5c7dafee303d6024b010 ready\n"
     ]
    }
   ],
   "source": [
    "model = Sequential()\n",
    "model.add(Dense(nb_hidden, input_dim=input_dim, activation='relu'))\n",
    "model.add(Lambda(lambda x: x + x**2 + x**3))\n",
    "model.add(Dense(nb_class, activation='softmax'))\n",
    "model.compile(loss='categorical_crossentropy',\n",
    "              optimizer='rmsprop',\n",
    "              metrics=['accuracy'])\n",
    "\n",
    "expe = Experiment(model)\n",
    "\n",
    "expe.fit_async([data], [data_val],\n",
    "               nb_epoch=40, batch_size=batch_size)"
   ]
  },
  {
   "cell_type": "code",
   "execution_count": 9,
   "metadata": {
    "collapsed": false,
    "slideshow": {
     "slide_type": "subslide"
    }
   },
   "outputs": [
    {
     "data": {
      "image/png": "[encoded data removed]",
      "text/plain": [
       "<matplotlib.figure.Figure at 0x7f31c1e30810>"
      ]
     },
     "metadata": {},
     "output_type": "display_data"
    }
   ],
   "source": [
    "history_2 = expe.full_res\n",
    "fig = plt.figure(figsize=(12,8))\n",
    "plt.style.use('ggplot')\n",
    "plt.plot(history_2['metrics'][\"val_loss\"], dashes=[8,2], linewidth=2, label=\"Validation loss\")\n",
    "plt.plot(history_2['metrics'][\"loss\"], linewidth=2, label=\"Loss\")\n",
    "plt.legend()\n",
    "plt.show()"
   ]
  },
  {
   "cell_type": "markdown",
   "metadata": {
    "slideshow": {
     "slide_type": "subslide"
    }
   },
   "source": [
    "### First look at the architecture"
   ]
  },
  {
   "cell_type": "markdown",
   "metadata": {
    "slideshow": {
     "slide_type": "fragment"
    }
   },
   "source": [
    "![arch](http://python-alp.readthedocs.io/en/latest/_images/architecture.svg)"
   ]
  },
  {
   "cell_type": "markdown",
   "metadata": {
    "slideshow": {
     "slide_type": "subslide"
    }
   },
   "source": [
    "## What happened?"
   ]
  },
  {
   "cell_type": "markdown",
   "metadata": {
    "slideshow": {
     "slide_type": "fragment"
    }
   },
   "source": [
    "![celery](https://raw.githubusercontent.com/tboquet/presentations/master/static/alp/celery.gif)"
   ]
  },
  {
   "cell_type": "markdown",
   "metadata": {
    "slideshow": {
     "slide_type": "subslide"
    }
   },
   "source": [
    "![task_celery](https://raw.githubusercontent.com/tboquet/presentations/master/static/alp/task_celery.png)"
   ]
  },
  {
   "cell_type": "markdown",
   "metadata": {
    "collapsed": false,
    "slideshow": {
     "slide_type": "slide"
    }
   },
   "source": [
    "## Let's send a lot of models"
   ]
  },
  {
   "cell_type": "code",
   "execution_count": 10,
   "metadata": {
    "collapsed": false,
    "slideshow": {
     "slide_type": "subslide"
    }
   },
   "outputs": [
    {
     "name": "stdout",
     "output_type": "stream",
     "text": [
      "4f924005-c923-4ac8-84cd-32af86f5f7b8\n",
      "a35c6da6-9147-4d46-b3a2-ecde8f0c0782\n",
      "e6d78664-60c3-48b1-b6d2-f1127c2c52b5\n",
      "706f93c3-b048-4eef-8fe8-e158ea2857c2\n",
      "024a4484-70c8-4110-83a5-4bf60b0dda3b\n",
      "f358bb65-3d3a-450d-adb6-f97c73be4e21\n",
      "865ee09c-bcf8-409a-85d7-e09f87d20a3c\n",
      "ff7566fd-60e4-4054-8984-9586cd490c1e\n",
      "d4c9851b-e49d-4530-a2ba-09ca84002b36\n",
      "3c6e8301-9a02-4e2e-aa7a-9a0ec89fcd0d\n",
      "0a688299-cf0c-4050-8796-0b4f1fe1dab4\n",
      "e928d259-22f3-4c09-9490-0a8c082db889\n",
      "6c8c1892-2e6a-4652-86b8-3ac2da471510\n",
      "0cb0ae09-5c82-4e24-9dde-7cffbd0965d3\n",
      "c9325177-af6f-43e8-a41e-708364f86b85\n",
      "ca076aeb-acd1-4a95-aa38-e41c038561b9\n",
      "11fc180e-cdb1-4566-9c20-426cba16da18\n",
      "8bc8c3c3-8a33-4880-8f2f-1124fed4c3a8\n",
      "cad5c96c-6bc0-41be-b2d1-a3bde80753b3\n",
      "cebcbb60-c89a-4afb-bdd0-055c97a21595\n",
      "Result 1ddb727bd2e63c316cdb9e7b56637c27 ready\n",
      "Result db7789d4cdc2786ea5d9322a4ae466a4 ready\n",
      "Result 3e2045346f9c2d84418195005e3853d9 ready\n",
      "Result 24780230b9b3a14fb83c3c2245d2fa96 ready\n",
      "Result 38f1380a8ade31d2fe2aea65b389674a ready\n",
      "Result 87ab5f1a01bc428ae3b90726e5fb406d ready\n",
      "Result 128bb06a317f690a7659e6d7e01d7758 ready\n",
      "Result dc28c6b32cb33fc3bb8b9e5195ca6019 ready\n",
      "Result ec7ef19f6df838471cc68feca4c8c542 ready\n",
      "Result 32cff02db7c97632a6c96ddf9aa39261 ready\n",
      "Result 1496f626e2e05b1077516a8c4d0db3ba ready\n",
      "Result 7231b41e0d985400a655830e7f12a100 ready\n",
      "Result eac7049b34406e0b9f91c612218bc034 ready\n",
      "Result b9121ba4043c12d6c4b3b11c5e678217 ready\n",
      "Result a4f3c22c3c503840b099d009b594da40 ready\n",
      "Result b4ffdd66bdbb1dac834fe3e2231bba9e ready\n",
      "Result 69ecceca1e4a24b4c47f6959ed049f9c ready\n",
      "Result 50d370f27f8d5bcdbcb5727bc11ce2eb ready\n",
      "Result 63ad0278b21d7d4c1daf1b82d169dc90 ready\n",
      "Result d064c9be569426b7839d3153ca8a0503 ready\n"
     ]
    }
   ],
   "source": [
    "expes = []\n",
    "for i in range(20):\n",
    "    model = Sequential()\n",
    "    model.add(Dense(nb_hidden + i, input_dim=input_dim, activation='relu'))\n",
    "    model.add(Lambda(lambda x: x + x**2 + x**3))\n",
    "    model.add(Dense(nb_class, activation='softmax'))\n",
    "    model.compile(loss='categorical_crossentropy',\n",
    "                  optimizer='rmsprop',\n",
    "                  metrics=['accuracy'])\n",
    "\n",
    "    expe = Experiment(model)\n",
    "\n",
    "    print(expe.fit_async([data], [data_val],\n",
    "                         nb_epoch=40, batch_size=batch_size))\n",
    "    expes.append(expe)"
   ]
  },
  {
   "cell_type": "markdown",
   "metadata": {
    "slideshow": {
     "slide_type": "subslide"
    }
   },
   "source": [
    "## We could take a look at Celery and RabbitMQ's admin panel"
   ]
  },
  {
   "cell_type": "markdown",
   "metadata": {
    "slideshow": {
     "slide_type": "fragment"
    }
   },
   "source": [
    "![queue_rabbit](https://raw.githubusercontent.com/tboquet/presentations/master/static/alp/queue_rabbit.png)"
   ]
  },
  {
   "cell_type": "markdown",
   "metadata": {
    "slideshow": {
     "slide_type": "subslide"
    }
   },
   "source": [
    "![queue](https://raw.githubusercontent.com/tboquet/presentations/master/static/alp/queue.gif)"
   ]
  },
  {
   "cell_type": "markdown",
   "metadata": {
    "slideshow": {
     "slide_type": "subslide"
    }
   },
   "source": [
    "## And the processes using the GPU(s)"
   ]
  },
  {
   "cell_type": "markdown",
   "metadata": {
    "slideshow": {
     "slide_type": "fragment"
    }
   },
   "source": [
    "![gpu_processes](https://raw.githubusercontent.com/tboquet/presentations/master/static/alp/gpu_processes.gif)"
   ]
  },
  {
   "cell_type": "markdown",
   "metadata": {
    "slideshow": {
     "slide_type": "subslide"
    }
   },
   "source": [
    "# Prediction"
   ]
  },
  {
   "cell_type": "code",
   "execution_count": 11,
   "metadata": {
    "collapsed": false,
    "slideshow": {
     "slide_type": "fragment"
    }
   },
   "outputs": [
    {
     "name": "stdout",
     "output_type": "stream",
     "text": [
      "(40000, 10)\n"
     ]
    },
    {
     "data": {
      "text/plain": [
       "array([[  0.00000000e+00,   0.00000000e+00,   6.48656976e-34, ...,\n",
       "          1.00533158e-01,   0.00000000e+00,   0.00000000e+00],\n",
       "       [  0.00000000e+00,   0.00000000e+00,   0.00000000e+00, ...,\n",
       "          9.95051861e-01,   0.00000000e+00,   0.00000000e+00],\n",
       "       [  0.00000000e+00,   0.00000000e+00,   0.00000000e+00, ...,\n",
       "          6.77754760e-01,   0.00000000e+00,   0.00000000e+00],\n",
       "       ..., \n",
       "       [  0.00000000e+00,   0.00000000e+00,   0.00000000e+00, ...,\n",
       "          9.99994397e-01,   0.00000000e+00,   0.00000000e+00],\n",
       "       [  2.25554009e-24,   2.17307249e-11,   3.21463813e-05, ...,\n",
       "          1.09264938e-05,   0.00000000e+00,   0.00000000e+00],\n",
       "       [  0.00000000e+00,   0.00000000e+00,   0.00000000e+00, ...,\n",
       "          9.98950124e-01,   0.00000000e+00,   0.00000000e+00]], dtype=float32)"
      ]
     },
     "execution_count": 11,
     "metadata": {},
     "output_type": "execute_result"
    }
   ],
   "source": [
    "predictions = expes[2].predict([data['X']])\n",
    "print(predictions[0].shape)\n",
    "predictions[0]"
   ]
  },
  {
   "cell_type": "markdown",
   "metadata": {
    "slideshow": {
     "slide_type": "slide"
    }
   },
   "source": [
    "# Thank you!\n",
    "\n",
    "\n",
    "**[Alp's doc](http://python-alp.readthedocs.io/en/latest/)**\n",
    "\n",
    "\n",
    "**[Alp on github](https://github.com/tboquet/python-alp)**\n"
   ]
  }
 ],
 "metadata": {
  "celltoolbar": "Slideshow",
  "kernelspec": {
   "display_name": "Python 2",
   "language": "python",
   "name": "python2"
  },
  "language_info": {
   "codemirror_mode": {
    "name": "ipython",
    "version": 2
   },
   "file_extension": ".py",
   "mimetype": "text/x-python",
   "name": "python",
   "nbconvert_exporter": "python",
   "pygments_lexer": "ipython2",
   "version": "2.7.11"
  }
 },
 "nbformat": 4,
 "nbformat_minor": 0
}
