{
 "cells": [
  {
   "cell_type": "markdown",
   "metadata": {
    "slideshow": {
     "slide_type": "slide"
    }
   },
   "source": [
    "# How to organise machine learning experiments?\n",
    "\n",
    "\n",
    "Thomas Boquet\n",
    "\n",
    "\n",
    "github: [@tboquet](https://github.com/tboquet)"
   ]
  },
  {
   "cell_type": "markdown",
   "metadata": {
    "slideshow": {
     "slide_type": "subslide"
    }
   },
   "source": [
    "## Problems?"
   ]
  },
  {
   "cell_type": "markdown",
   "metadata": {
    "slideshow": {
     "slide_type": "fragment"
    }
   },
   "source": [
    "- Training **complex** machine learning **models** could take some **time** and **ressources**."
   ]
  },
  {
   "cell_type": "markdown",
   "metadata": {
    "slideshow": {
     "slide_type": "fragment"
    }
   },
   "source": [
    "- It's **not efficient** for one researcher to run **several scripts sequentially** on a server."
   ]
  },
  {
   "cell_type": "markdown",
   "metadata": {
    "slideshow": {
     "slide_type": "fragment"
    }
   },
   "source": [
    "- When you are in a team with **multiple researchers** using **multiple (GPU) servers** it becomes **a mess**."
   ]
  },
  {
   "cell_type": "markdown",
   "metadata": {
    "slideshow": {
     "slide_type": "fragment"
    }
   },
   "source": [
    "- You also need to **save** the architecture, the parameters and more **infos** (data, dependencies, etc) about each **model**."
   ]
  },
  {
   "cell_type": "markdown",
   "metadata": {
    "slideshow": {
     "slide_type": "fragment"
    }
   },
   "source": [
    "- The servers have to be configured (CUDA, Theano, etc.)"
   ]
  },
  {
   "cell_type": "markdown",
   "metadata": {
    "slideshow": {
     "slide_type": "subslide"
    }
   },
   "source": [
    "![image](http://images.techtimes.com/data/images/full/146106/macgyver-jpg.jpg)"
   ]
  },
  {
   "cell_type": "markdown",
   "metadata": {
    "slideshow": {
     "slide_type": "subslide"
    }
   },
   "source": [
    "It's **possible** to:"
   ]
  },
  {
   "cell_type": "markdown",
   "metadata": {
    "slideshow": {
     "slide_type": "fragment"
    }
   },
   "source": [
    "- **assign hardware** from the same machine or from **several servers** to an application (nvidia-docker)"
   ]
  },
  {
   "cell_type": "markdown",
   "metadata": {
    "slideshow": {
     "slide_type": "fragment"
    }
   },
   "source": [
    "- **save all the info** in a database"
   ]
  },
  {
   "cell_type": "markdown",
   "metadata": {
    "slideshow": {
     "slide_type": "fragment"
    }
   },
   "source": [
    "- retrieve the info, **rebuild the same models** and serve them in a **production pipeline**!\n",
    "\n",
    "*(like TensorFlow Serving...)*"
   ]
  },
  {
   "cell_type": "markdown",
   "metadata": {
    "slideshow": {
     "slide_type": "fragment"
    }
   },
   "source": [
    "### Let's do this using a simple API!"
   ]
  },
  {
   "cell_type": "markdown",
   "metadata": {
    "slideshow": {
     "slide_type": "slide"
    }
   },
   "source": [
    "# ALP"
   ]
  },
  {
   "cell_type": "markdown",
   "metadata": {
    "slideshow": {
     "slide_type": "subslide"
    }
   },
   "source": [
    "## How to use it?"
   ]
  },
  {
   "cell_type": "markdown",
   "metadata": {
    "slideshow": {
     "slide_type": "fragment"
    }
   },
   "source": [
    "(after the setup)"
   ]
  },
  {
   "cell_type": "markdown",
   "metadata": {
    "slideshow": {
     "slide_type": "subslide"
    }
   },
   "source": [
    "### Imports"
   ]
  },
  {
   "cell_type": "code",
   "execution_count": 1,
   "metadata": {
    "collapsed": false,
    "slideshow": {
     "slide_type": "fragment"
    }
   },
   "outputs": [
    {
     "name": "stderr",
     "output_type": "stream",
     "text": [
      "Using Theano backend.\n",
      "Using gpu device 0: GeForce GTX 980 Ti (CNMeM is disabled, cuDNN 5005)\n"
     ]
    }
   ],
   "source": [
    "import matplotlib.pyplot as plt\n",
    "%matplotlib inline\n",
    "\n",
    "from keras.layers import Dense\n",
    "from keras.layers import Input, Lambda\n",
    "from keras.models import Model\n",
    "from keras.models import Sequential\n",
    "from keras.utils import np_utils\n",
    "from keras.utils.test_utils import get_test_data\n",
    "import numpy as np\n",
    "\n",
    "from alp.appcom.core import Experiment"
   ]
  },
  {
   "cell_type": "markdown",
   "metadata": {
    "slideshow": {
     "slide_type": "subslide"
    }
   },
   "source": [
    "### Fake data stuff"
   ]
  },
  {
   "cell_type": "code",
   "execution_count": 2,
   "metadata": {
    "collapsed": true,
    "slideshow": {
     "slide_type": "fragment"
    }
   },
   "outputs": [],
   "source": [
    "np.random.seed(1337)\n",
    "\n",
    "\n",
    "input_dim = 2\n",
    "nb_hidden = 4\n",
    "nb_class = 10\n",
    "batch_size = 128\n",
    "train_samples = 40000\n",
    "test_samples = 20"
   ]
  },
  {
   "cell_type": "code",
   "execution_count": 3,
   "metadata": {
    "collapsed": false,
    "slideshow": {
     "slide_type": "subslide"
    }
   },
   "outputs": [],
   "source": [
    "(X_tr, y_tr), (X_te, y_te) = get_test_data(nb_train=train_samples,\n",
    "                                            nb_test=test_samples,\n",
    "                                            input_shape=(input_dim,),\n",
    "                                            classification=True,\n",
    "                                            nb_class=nb_class)\n",
    "\n",
    "y_tr = np_utils.to_categorical(y_tr)\n",
    "y_te = np_utils.to_categorical(y_te)\n",
    "\n",
    "data, data_val = dict(), dict()\n",
    "\n",
    "data[\"X\"] = X_tr\n",
    "data[\"y\"] = y_tr\n",
    "\n",
    "data_val[\"X\"] = X_te\n",
    "data_val[\"y\"] = y_te\n",
    "\n",
    "\n",
    "metrics = ['accuracy']"
   ]
  },
  {
   "cell_type": "markdown",
   "metadata": {
    "slideshow": {
     "slide_type": "subslide"
    }
   },
   "source": [
    "### Model!"
   ]
  },
  {
   "cell_type": "code",
   "execution_count": 4,
   "metadata": {
    "collapsed": true,
    "slideshow": {
     "slide_type": "fragment"
    }
   },
   "outputs": [],
   "source": [
    "model = Sequential()\n",
    "model.add(Dense(nb_hidden, input_dim=input_dim, activation='relu'))\n",
    "model.add(Lambda(lambda x: x + x**2 + x**3))\n",
    "model.add(Dense(nb_class, activation='softmax'))\n",
    "model.compile(loss='categorical_crossentropy',\n",
    "              optimizer='rmsprop',\n",
    "              metrics=['accuracy'])\n",
    "\n",
    "expe = Experiment(model)"
   ]
  },
  {
   "cell_type": "markdown",
   "metadata": {
    "slideshow": {
     "slide_type": "subslide"
    }
   },
   "source": [
    "### Simple fit"
   ]
  },
  {
   "cell_type": "code",
   "execution_count": 5,
   "metadata": {
    "collapsed": false,
    "slideshow": {
     "slide_type": "fragment"
    }
   },
   "outputs": [],
   "source": [
    "history_1 = expe.fit([data], [data_val], nb_epoch=40, batch_size=batch_size, verbose=0)"
   ]
  },
  {
   "cell_type": "code",
   "execution_count": 6,
   "metadata": {
    "collapsed": false,
    "slideshow": {
     "slide_type": "subslide"
    }
   },
   "outputs": [
    {
     "data": {
      "image/png": "[encoded data removed]",
      "text/plain": [
       "<matplotlib.figure.Figure at 0x7f5fb659ef90>"
      ]
     },
     "metadata": {},
     "output_type": "display_data"
    }
   ],
   "source": [
    "fig = plt.figure(figsize=(12,8))\n",
    "plt.style.use('ggplot')\n",
    "plt.plot(history_1['metrics'][\"val_loss\"], dashes=[8,2], linewidth=2, label=\"Validation loss\")\n",
    "plt.plot(history_1['metrics'][\"loss\"], linewidth=2, label=\"Loss\")\n",
    "plt.legend()\n",
    "plt.show()"
   ]
  },
  {
   "cell_type": "markdown",
   "metadata": {
    "slideshow": {
     "slide_type": "subslide"
    }
   },
   "source": [
    "### In async mode!"
   ]
  },
  {
   "cell_type": "code",
   "execution_count": 7,
   "metadata": {
    "collapsed": false,
    "slideshow": {
     "slide_type": "fragment"
    }
   },
   "outputs": [
    {
     "data": {
      "text/plain": [
       "<AsyncResult: 1c9bd9f4-fa0d-42ca-afa5-5cb28c87bb87>"
      ]
     },
     "execution_count": 7,
     "metadata": {},
     "output_type": "execute_result"
    },
    {
     "name": "stdout",
     "output_type": "stream",
     "text": [
      "Result 82105cacb1cb127240e7b65487f6c7cf ready\n"
     ]
    }
   ],
   "source": [
    "model = Sequential()\n",
    "model.add(Dense(nb_hidden, input_dim=input_dim, activation='relu'))\n",
    "model.add(Lambda(lambda x: x + x**2 + x**3))\n",
    "model.add(Dense(nb_class, activation='softmax'))\n",
    "model.compile(loss='categorical_crossentropy',\n",
    "              optimizer='rmsprop',\n",
    "              metrics=['accuracy'])\n",
    "\n",
    "expe = Experiment(model)\n",
    "\n",
    "expe.fit_async([data], [data_val],\n",
    "               nb_epoch=40, batch_size=batch_size)"
   ]
  },
  {
   "cell_type": "code",
   "execution_count": 8,
   "metadata": {
    "collapsed": false,
    "slideshow": {
     "slide_type": "subslide"
    }
   },
   "outputs": [
    {
     "data": {
      "image/png": "[encoded data removed]",
      "text/plain": [
       "<matplotlib.figure.Figure at 0x7f5fafbe75d0>"
      ]
     },
     "metadata": {},
     "output_type": "display_data"
    }
   ],
   "source": [
    "history_2 = expe.full_res\n",
    "fig = plt.figure(figsize=(12,8))\n",
    "plt.style.use('ggplot')\n",
    "plt.plot(history_2['metrics'][\"val_loss\"], dashes=[8,2], linewidth=2, label=\"Validation loss\")\n",
    "plt.plot(history_2['metrics'][\"loss\"], linewidth=2, label=\"Loss\")\n",
    "plt.legend()\n",
    "plt.show()"
   ]
  },
  {
   "cell_type": "markdown",
   "metadata": {
    "slideshow": {
     "slide_type": "subslide"
    }
   },
   "source": [
    "### First look at the architecture"
   ]
  },
  {
   "cell_type": "markdown",
   "metadata": {
    "slideshow": {
     "slide_type": "fragment"
    }
   },
   "source": [
    "![arch](http://python-alp.readthedocs.io/en/latest/_images/architecture.svg)"
   ]
  },
  {
   "cell_type": "markdown",
   "metadata": {
    "slideshow": {
     "slide_type": "subslide"
    }
   },
   "source": [
    "## What happened?"
   ]
  },
  {
   "cell_type": "markdown",
   "metadata": {
    "slideshow": {
     "slide_type": "fragment"
    }
   },
   "source": [
    "![celery](https://raw.githubusercontent.com/tboquet/presentations/master/static/alp/celery.gif)"
   ]
  },
  {
   "cell_type": "markdown",
   "metadata": {
    "slideshow": {
     "slide_type": "subslide"
    }
   },
   "source": [
    "![task_celery](https://raw.githubusercontent.com/tboquet/presentations/master/static/alp/task_celery.png)"
   ]
  },
  {
   "cell_type": "markdown",
   "metadata": {
    "collapsed": false,
    "slideshow": {
     "slide_type": "slide"
    }
   },
   "source": [
    "## Let's send a lot of models"
   ]
  },
  {
   "cell_type": "code",
   "execution_count": 11,
   "metadata": {
    "collapsed": false,
    "slideshow": {
     "slide_type": "subslide"
    }
   },
   "outputs": [
    {
     "name": "stdout",
     "output_type": "stream",
     "text": [
      "238d5f97-21b8-4ac5-a5a4-3eadbb52d89d\n",
      "0fdf0dde-b0cd-465f-b0fd-a3f0f37fddf2\n",
      "f1499e88-367d-4406-a1da-6e0e28879d18\n",
      "8628e590-98b9-4fe5-880b-e0aefa2e3fcb\n",
      "f4ac2406-9ba7-4f0f-80a2-21701dd2e2e2\n",
      "f304475f-e041-44a9-ae66-10ddf3db9f4b\n",
      "d50d2ce2-caaa-4ec2-b9bd-76f5de350058\n",
      "8fd6dd2c-82ea-4f9f-9e65-75f14cae2086\n",
      "c4531d30-b47a-495a-8f86-71cf78536c4a\n",
      "cf8a63cd-fc04-463a-919a-a33f589d292c\n",
      "037c89e4-d9d6-4312-ab46-6d7918d883c0\n",
      "fbdfa3c9-78a6-4c21-b729-c843e6c44d40\n",
      "092c0429-9e85-474b-bc77-9d52322e023e\n",
      "e1905150-95b4-46c2-9530-5fb2aac1c16e\n",
      "1598678c-de7b-413e-a792-f7fef53cf771\n",
      "fdebe9a8-6dbf-4252-bca7-817e22f0fab6\n",
      "b4f0dbac-1713-4610-b28b-b6ba8befceb4\n",
      "48635f94-fdb3-4e10-a3f0-794abf517dc4\n",
      "2d2c79ad-2fce-4b1b-ad7f-75eda390e44f\n",
      "c9388886-6647-41ff-a1ba-e28efa0886b3\n",
      "Result 5afa6f03684caf073612169e0cb80430 ready\n",
      "Result 94a2539b13ae3f2b60383a23dce9ca45 ready\n",
      "Result cf811f136285de90947dd36bbde8aae0 ready\n",
      "Result 73ec6e3aa6f63e17b44fa1e389c73b15 ready\n",
      "Result edb1bbf9d24261be1b0a42a2dae7dd2c ready\n",
      "Result 2bfc22c866efc51339848b60c86ebf80 ready\n",
      "Result f94bafb63001005de4c28eb51b6a47ed ready\n",
      "Result 764ca209eb122897556bac03a32c9586 ready\n",
      "Result 43f9907a46c91984906c735aa2d13e87 ready\n"
     ]
    }
   ],
   "source": [
    "expes = []\n",
    "for i in range(20):\n",
    "    model = Sequential()\n",
    "    model.add(Dense(nb_hidden + i, input_dim=input_dim, activation='relu'))\n",
    "    model.add(Lambda(lambda x: x + x**2 + x**3))\n",
    "    model.add(Dense(nb_class, activation='softmax'))\n",
    "    model.compile(loss='categorical_crossentropy',\n",
    "                  optimizer='rmsprop',\n",
    "                  metrics=['accuracy'])\n",
    "\n",
    "    expe = Experiment(model)\n",
    "\n",
    "    print(expe.fit_async([data], [data_val],\n",
    "                         nb_epoch=40, batch_size=batch_size))\n",
    "    expes.append(expe)"
   ]
  },
  {
   "cell_type": "markdown",
   "metadata": {
    "slideshow": {
     "slide_type": "subslide"
    }
   },
   "source": [
    "## We could take a look at Celery and RabbitMQ's admin panel"
   ]
  },
  {
   "cell_type": "markdown",
   "metadata": {
    "slideshow": {
     "slide_type": "fragment"
    }
   },
   "source": [
    "![queue_rabbit](https://raw.githubusercontent.com/tboquet/presentations/master/static/alp/queue_rabbit.png)"
   ]
  },
  {
   "cell_type": "markdown",
   "metadata": {
    "slideshow": {
     "slide_type": "subslide"
    }
   },
   "source": [
    "![queue](https://raw.githubusercontent.com/tboquet/presentations/master/static/alp/queue.gif)"
   ]
  },
  {
   "cell_type": "markdown",
   "metadata": {
    "slideshow": {
     "slide_type": "subslide"
    }
   },
   "source": [
    "## And the processes using the GPU(s)"
   ]
  },
  {
   "cell_type": "markdown",
   "metadata": {
    "slideshow": {
     "slide_type": "fragment"
    }
   },
   "source": [
    "![gpu_processes](https://raw.githubusercontent.com/tboquet/presentations/master/static/alp/gpu_processes.gif)"
   ]
  },
  {
   "cell_type": "markdown",
   "metadata": {
    "slideshow": {
     "slide_type": "slide"
    }
   },
   "source": [
    "# Thank you!\n",
    "\n",
    "\n",
    "**[Alp's doc](http://python-alp.readthedocs.io/en/latest/)**\n",
    "\n",
    "\n",
    "**[Alp on github](https://github.com/tboquet/python-alp)**\n"
   ]
  }
 ],
 "metadata": {
  "celltoolbar": "Slideshow",
  "kernelspec": {
   "display_name": "Python 2",
   "language": "python",
   "name": "python2"
  },
  "language_info": {
   "codemirror_mode": {
    "name": "ipython",
    "version": 2
   },
   "file_extension": ".py",
   "mimetype": "text/x-python",
   "name": "python",
   "nbconvert_exporter": "python",
   "pygments_lexer": "ipython2",
   "version": "2.7.11"
  }
 },
 "nbformat": 4,
 "nbformat_minor": 0
}
