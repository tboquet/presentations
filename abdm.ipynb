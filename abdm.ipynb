{
 "cells": [
  {
   "cell_type": "code",
   "execution_count": 1,
   "metadata": {
    "collapsed": false,
    "slideshow": {
     "slide_type": "skip"
    }
   },
   "outputs": [
    {
     "name": "stdout",
     "output_type": "stream",
     "text": [
      "Installed secnum.py. To use it, type:\n",
      "  %load_ext secnum\n"
     ]
    },
    {
     "name": "stderr",
     "output_type": "stream",
     "text": [
      "C:\\Anaconda3\\envs\\anapy27\\lib\\site-packages\\IPython\\core\\magics\\extension.py:47: UserWarning: %install_ext` is deprecated, please distribute your extension(s)as a python packages.\n",
      "  \"as a python packages.\", UserWarning)\n"
     ]
    }
   ],
   "source": [
    "%install_ext https://raw.github.com/dpsanders/ipython_extensions/master/section_numbering/secnum.py"
   ]
  },
  {
   "cell_type": "code",
   "execution_count": 2,
   "metadata": {
    "collapsed": false,
    "slideshow": {
     "slide_type": "skip"
    }
   },
   "outputs": [
    {
     "data": {
      "application/javascript": [
       "console.log(\"Section numbering...\");\n",
       "\n",
       "function number_sections(threshold) {\n",
       "\n",
       "  var h1_number = 0;\n",
       "  var h2_number = 0;\n",
       "\n",
       "  if (threshold === undefined) {\n",
       "    threshold = 2;  // does nothing so far\n",
       "  }\n",
       "\n",
       "  var cells = IPython.notebook.get_cells();\n",
       "  \n",
       "  for (var i=0; i < cells.length; i++) {\n",
       "\n",
       "    var cell = cells[i];\n",
       "    if (cell.cell_type !== 'markdown') continue;\n",
       "    \n",
       "    var h1_element = cell.element.find('h1');\n",
       "    if (h1_element.length !== 0) {\n",
       "        \n",
       "        h1_number ++;\n",
       "        \n",
       "        var h1_html = h1_element.html();\n",
       "        \n",
       "        console.log(\"h1_html: \" + h1_html);\n",
       "\n",
       "        var patt = /^[0-9]+\\.\\s(.*)/;   // section number at start of string\n",
       "        var title = h1_html.match(patt);  // just the title\n",
       "\n",
       "        if (title != null) {  \n",
       "          h1_element.html(h1_number + \". \" + title[1]);\n",
       "        }\n",
       "        else {\n",
       "          h1_element.html(h1_number + \". \" + h1_html);\n",
       "        }\n",
       "        \n",
       "        h2_number = 0;\n",
       "        \n",
       "    }\n",
       "    \n",
       "    var h2_element = cell.element.find('h2');\n",
       "    if (h2_element.length !== 0) {\n",
       "    \n",
       "        h2_number ++;\n",
       "        \n",
       "        var h2_html = h2_element.html();\n",
       "\n",
       "        console.log(\"h2_html: \" + h2_html);\n",
       "\n",
       "        \n",
       "        var patt = /^[0-9]+\\.[0-9]+\\.\\s/;\n",
       "        var result = h2_html.match(patt);\n",
       "\n",
       "        if (result != null) {\n",
       "          h2_html = h2_html.replace(result, \"\");\n",
       "        }\n",
       "\n",
       "        h2_element.html(h1_number + \".\" + h2_number + \". \" + h2_html);\n",
       "        \n",
       "    }\n",
       "    \n",
       "  }\n",
       "  \n",
       "}\n",
       "\n",
       "number_sections();\n",
       "\n",
       "// $([IPython.evnts]).on('create.Cell', number_sections);\n",
       "\n",
       "$([IPython.events]).on('selected_cell_type_changed.Notebook', number_sections);\n",
       "\n"
      ]
     },
     "metadata": {},
     "output_type": "display_data"
    }
   ],
   "source": [
    "%load_ext secnum\n",
    "%secnum"
   ]
  },
  {
   "cell_type": "markdown",
   "metadata": {
    "slideshow": {
     "slide_type": "slide"
    }
   },
   "source": [
    "# Analyse de base de données: production de rapports automatique"
   ]
  },
  {
   "cell_type": "markdown",
   "metadata": {
    "slideshow": {
     "slide_type": "fragment"
    }
   },
   "source": [
    "##### email: thomas.boquet@hec.ca\n",
    "##### github: [@tboquet](https://github.com/tboquet)\n",
    "##### twitter: [@thomasboquet](https://twitter.com/ThomasBoquet)\n",
    "##### linkedin: [profile](https://ca.linkedin.com/in/tboquet)\n"
   ]
  },
  {
   "cell_type": "markdown",
   "metadata": {
    "slideshow": {
     "slide_type": "slide"
    }
   },
   "source": [
    "# Sommaire"
   ]
  },
  {
   "cell_type": "markdown",
   "metadata": {
    "slideshow": {
     "slide_type": "fragment"
    }
   },
   "source": [
    "- Intro\n",
    "\n",
    "- Mandat | Recherche d'informations\n",
    "\n",
    "- Nettoyage de données\n",
    "\n",
    "- Choix des technologies utilisées\n",
    "\n",
    "- Mise en forme des données\n",
    "\n",
    "- Modélisation\n",
    "\n",
    "- Formation à l'outil et documentation\n",
    "\n",
    "- Service après vente"
   ]
  },
  {
   "cell_type": "markdown",
   "metadata": {
    "slideshow": {
     "slide_type": "slide"
    }
   },
   "source": [
    "# Intro"
   ]
  },
  {
   "cell_type": "markdown",
   "metadata": {
    "slideshow": {
     "slide_type": "subslide"
    }
   },
   "source": [
    "## Qu'est ce qu'un analyste de données, ..., data scientist ?"
   ]
  },
  {
   "cell_type": "markdown",
   "metadata": {
    "slideshow": {
     "slide_type": "fragment"
    }
   },
   "source": [
    "Une personne qui intervient dans le processus de **transformation** **d'information mesurable en valeur** pour une entreprise ou un client."
   ]
  },
  {
   "cell_type": "markdown",
   "metadata": {
    "slideshow": {
     "slide_type": "subslide"
    }
   },
   "source": [
    "### Ce qu'il faut savoir faire (1):\n",
    "\n",
    "- évangéliser l'analyse de données\n",
    "\n",
    "- communiquer avec les collaborateurs"
   ]
  },
  {
   "cell_type": "markdown",
   "metadata": {
    "slideshow": {
     "slide_type": "fragment"
    }
   },
   "source": [
    "![saul](http://vignette2.wikia.nocookie.net/dragonball/images/6/63/Saul-goodman-o.gif/revision/latest?cb=20140102030536)"
   ]
  },
  {
   "cell_type": "markdown",
   "metadata": {
    "slideshow": {
     "slide_type": "fragment"
    }
   },
   "source": [
    "- dire non"
   ]
  },
  {
   "cell_type": "markdown",
   "metadata": {
    "slideshow": {
     "slide_type": "fragment"
    }
   },
   "source": [
    "![](https://lh3.googleusercontent.com/-WNVzJuyqXpU/VlJeTcrucpI/AAAAAAAAAJQ/z7pqdrVU_uY/w975-h304/salesforce-dilbert.png)"
   ]
  },
  {
   "cell_type": "markdown",
   "metadata": {
    "slideshow": {
     "slide_type": "subslide"
    }
   },
   "source": [
    "- aller chercher de l'information à l'interne ou à l'externe\n",
    "\n",
    "- faire des graphiques qui représentent bien l'information"
   ]
  },
  {
   "cell_type": "markdown",
   "metadata": {
    "slideshow": {
     "slide_type": "fragment"
    }
   },
   "source": [
    "![](https://pbs.twimg.com/media/BQucCPMCAAAIkWb.png)"
   ]
  },
  {
   "cell_type": "markdown",
   "metadata": {
    "slideshow": {
     "slide_type": "subslide"
    }
   },
   "source": [
    "### Ce qu'il faut savoir faire (2):\n",
    "\n",
    "- aller chercher des données (SQL, NoSQL, communiquer avec des APIs)\n",
    "\n",
    "- nettoyer et reformater les données (\"data munging\")\n",
    "\n",
    "- restocker les données (ou nettoyer et organiser les données sur demande)"
   ]
  },
  {
   "cell_type": "markdown",
   "metadata": {
    "slideshow": {
     "slide_type": "fragment"
    }
   },
   "source": [
    "- aller trouver les variables importantes\n",
    "\n",
    "- construire des nouvelles variables (\"feature engineering\")\n",
    "\n",
    "- ou savoir réaliser ces deux étapes automatiquement si le problème s'y prête"
   ]
  },
  {
   "cell_type": "markdown",
   "metadata": {
    "slideshow": {
     "slide_type": "fragment"
    }
   },
   "source": [
    "- sélectionner la/les bonne(s) technique(s)\n",
    "\n",
    "- tester et valider les techniques sélectionnées\n",
    "\n",
    "- présenter les résultats des techniques utilisées"
   ]
  },
  {
   "cell_type": "markdown",
   "metadata": {
    "slideshow": {
     "slide_type": "subslide"
    }
   },
   "source": [
    "## Le cas"
   ]
  },
  {
   "cell_type": "markdown",
   "metadata": {
    "slideshow": {
     "slide_type": "fragment"
    }
   },
   "source": [
    "Nous avons **plusieurs applications mobiles personnalisables au niveau de chaque client**. Nous avons des **campagnes** qui changent de **nombreux paramètres** pour des groupes de clients mais nous n'avons **pas de moyens de mesurer** l'impact du changement de ces paramètres.\n",
    "\n",
    "Nous aimerions savoir:"
   ]
  },
  {
   "cell_type": "markdown",
   "metadata": {
    "slideshow": {
     "slide_type": "fragment"
    }
   },
   "source": [
    "- si les clients exposés à une configuration dépensent plus d'argent que les clients non exposés a cette configuration"
   ]
  },
  {
   "cell_type": "markdown",
   "metadata": {
    "slideshow": {
     "slide_type": "fragment"
    }
   },
   "source": [
    "- si les clients exposés à une configuration sont plus ou moins a risque d'arrêter d'utiliser l'application"
   ]
  },
  {
   "cell_type": "markdown",
   "metadata": {
    "slideshow": {
     "slide_type": "fragment"
    }
   },
   "source": [
    "- si les clients exposés à une configuration ont plus de chance de racheter dans l'application"
   ]
  },
  {
   "cell_type": "markdown",
   "metadata": {
    "slideshow": {
     "slide_type": "fragment"
    }
   },
   "source": [
    "- quelle est la lifetime value de chaque client"
   ]
  },
  {
   "cell_type": "markdown",
   "metadata": {
    "slideshow": {
     "slide_type": "fragment"
    }
   },
   "source": [
    "Nous sommes trois personnes sur le projet ...\n",
    "\n",
    "#### Génial ça a l'air intéressant!"
   ]
  },
  {
   "cell_type": "markdown",
   "metadata": {
    "slideshow": {
     "slide_type": "subslide"
    }
   },
   "source": [
    "## Les specs"
   ]
  },
  {
   "cell_type": "markdown",
   "metadata": {
    "slideshow": {
     "slide_type": "fragment"
    }
   },
   "source": [
    "![](https://framasphere.org/camo/f03004c6172e285f5ab31a20c845aaa8527369c6/68747470733a2f2f33362e6d656469612e74756d626c722e636f6d2f62633464613630333938626436306465626531396364346564373634353437612f74756d626c725f6e6d36767a6b334b4d4c3172323872616c6f315f3530302e6a7067)"
   ]
  },
  {
   "cell_type": "markdown",
   "metadata": {
    "slideshow": {
     "slide_type": "subslide"
    }
   },
   "source": [
    "** ... By the way, on aimerait un truc sympa dans Excel, un dashboard avec des graphiques et tout ça... **"
   ]
  },
  {
   "cell_type": "markdown",
   "metadata": {
    "slideshow": {
     "slide_type": "fragment"
    }
   },
   "source": [
    "** ... On pourrait l'updater quand on veut ... **"
   ]
  },
  {
   "cell_type": "markdown",
   "metadata": {
    "slideshow": {
     "slide_type": "fragment"
    }
   },
   "source": [
    "** ... Avec des métriques de base calculées exactement ...**"
   ]
  },
  {
   "cell_type": "markdown",
   "metadata": {
    "slideshow": {
     "slide_type": "fragment"
    }
   },
   "source": [
    "** ... Ça serait pas mal d'avoir un premier prototype dans 1 semaine. **"
   ]
  },
  {
   "cell_type": "markdown",
   "metadata": {
    "slideshow": {
     "slide_type": "fragment"
    }
   },
   "source": [
    "![chuck](http://img.actucine.com/wp-content/uploads/2012/02/Chuck_Norris.jpg)"
   ]
  },
  {
   "cell_type": "markdown",
   "metadata": {
    "slideshow": {
     "slide_type": "subslide"
    }
   },
   "source": [
    "## Les contraintes techniques"
   ]
  },
  {
   "cell_type": "markdown",
   "metadata": {
    "slideshow": {
     "slide_type": "fragment"
    }
   },
   "source": [
    "- Python"
   ]
  },
  {
   "cell_type": "markdown",
   "metadata": {
    "slideshow": {
     "slide_type": "fragment"
    }
   },
   "source": [
    "- caracteristiques de la db"
   ]
  },
  {
   "cell_type": "markdown",
   "metadata": {
    "slideshow": {
     "slide_type": "fragment"
    }
   },
   "source": [
    "- scripts"
   ]
  },
  {
   "cell_type": "markdown",
   "metadata": {
    "slideshow": {
     "slide_type": "slide"
    }
   },
   "source": [
    "# Le Mandat et la recherche d'information"
   ]
  },
  {
   "cell_type": "markdown",
   "metadata": {
    "slideshow": {
     "slide_type": "subslide"
    }
   },
   "source": [
    "## Travail de fond"
   ]
  },
  {
   "cell_type": "markdown",
   "metadata": {
    "slideshow": {
     "slide_type": "fragment"
    }
   },
   "source": [
    "Il arrive que les collaborateurs demandent **trop** ou ne **savent pas** quoi demander."
   ]
  },
  {
   "cell_type": "markdown",
   "metadata": {
    "slideshow": {
     "slide_type": "fragment"
    }
   },
   "source": [
    "- Rencontrer plusieurs fois les clients pour cadrer le projet\n",
    "\n",
    "- Revenir avec un exemple d'analyse et ou de rapport dès la deuxième rencontre pour valider le développement"
   ]
  },
  {
   "cell_type": "markdown",
   "metadata": {
    "slideshow": {
     "slide_type": "fragment"
    }
   },
   "source": [
    "- Identifier les personnes clés qui donnent accès aux ressources (données, matériel, etc)\n",
    "\n",
    "- Aller leur parler du mandat pour savoir dans quelles mesures vous allez pouvoir réaliser le projet"
   ]
  },
  {
   "cell_type": "markdown",
   "metadata": {
    "slideshow": {
     "slide_type": "fragment"
    }
   },
   "source": [
    "- comprendre le travail du client: objectifs, structure de l'équipe, etc"
   ]
  },
  {
   "cell_type": "markdown",
   "metadata": {
    "slideshow": {
     "slide_type": "subslide"
    }
   },
   "source": [
    "## Travail technique"
   ]
  },
  {
   "cell_type": "markdown",
   "metadata": {
    "slideshow": {
     "slide_type": "fragment"
    }
   },
   "source": [
    "- comprendre comment les variables ont été créées (**l'étape la plus importante**)\n",
    "\n",
    "- récapitulatif des sources de données (taille, nombre de variables, description courte)"
   ]
  },
  {
   "cell_type": "markdown",
   "metadata": {
    "slideshow": {
     "slide_type": "subslide"
    }
   },
   "source": [
    "## Traduction du mandat en tâches"
   ]
  },
  {
   "cell_type": "markdown",
   "metadata": {
    "slideshow": {
     "slide_type": "fragment"
    }
   },
   "source": [
    "- aller chercher les données\n",
    "\n",
    "- nettoyer les données\n",
    "\n",
    "- ..."
   ]
  },
  {
   "cell_type": "markdown",
   "metadata": {
    "slideshow": {
     "slide_type": "fragment"
    }
   },
   "source": [
    "**suprises**:\n",
    "\n",
    "- partir à l'aventure pour la recherche d'information (pas de documentation, le responsable est en vacances, etc.)\n",
    "\n",
    "- construire une bibliotheque pour exporter des graphs dans Excel\n",
    "\n",
    "- demander de nouvelles fonctionnalités dans la db\n",
    "\n",
    "- etc"
   ]
  },
  {
   "cell_type": "markdown",
   "metadata": {
    "slideshow": {
     "slide_type": "subslide"
    }
   },
   "source": [
    "## Skills reliés à cette étape"
   ]
  },
  {
   "cell_type": "markdown",
   "metadata": {
    "slideshow": {
     "slide_type": "fragment"
    }
   },
   "source": [
    "- gestion de projet\n",
    "\n",
    "- savoir vulgariser les analyses et vos besoins\n",
    "\n",
    "- savoir dire non\n",
    "\n",
    "- le fameux sandwich au salami"
   ]
  },
  {
   "cell_type": "markdown",
   "metadata": {
    "slideshow": {
     "slide_type": "slide"
    }
   },
   "source": [
    "# Choix des techniques utilisées"
   ]
  },
  {
   "cell_type": "markdown",
   "metadata": {
    "slideshow": {
     "slide_type": "subslide"
    }
   },
   "source": [
    "## Pipeline et analyses"
   ]
  },
  {
   "cell_type": "markdown",
   "metadata": {
    "slideshow": {
     "slide_type": "fragment"
    }
   },
   "source": [
    "On doit se poser certaines questions avant de commencer:\n",
    "\n",
    "- dans quelles parties fait on du **prédictif**?\n",
    "\n",
    "- dans quelles parties fait on de **l'analyse de sensibilité**?\n",
    "\n",
    "- de quelle **précision** a-t-on besoin?\n",
    "\n",
    "- comment peut on traduire les **résultats en action**?"
   ]
  },
  {
   "cell_type": "markdown",
   "metadata": {
    "slideshow": {
     "slide_type": "subslide"
    }
   },
   "source": [
    "Il faut trouver un modèle et/ou des tests qui correspondent aux problèmes et préparer les données en conséquences:\n",
    "    \n",
    "- y a-t-il des **différences** entre deux ou plusieurs groupes? (Normalité? Taille des échantillons? égalité des variances?)\n",
    "\n",
    "- existe t-il un effet de la configuration pendant et/ou après celle-ci? (modèles de séries temporelles)\n",
    "\n",
    "- de quoi à t-on besoin pour calculer la lifetime value? (probabilité de mourrir au temps t, revenus au temps t)"
   ]
  },
  {
   "cell_type": "markdown",
   "metadata": {
    "slideshow": {
     "slide_type": "slide"
    }
   },
   "source": [
    "# Nettoyage de données"
   ]
  },
  {
   "cell_type": "markdown",
   "metadata": {
    "slideshow": {
     "slide_type": "subslide"
    }
   },
   "source": [
    "## Caractéristiques de la base de données"
   ]
  },
  {
   "cell_type": "markdown",
   "metadata": {
    "slideshow": {
     "slide_type": "fragment"
    }
   },
   "source": [
    "Quelle est la taille des jeux de données pour une application mobile populaire?"
   ]
  },
  {
   "cell_type": "markdown",
   "metadata": {
    "slideshow": {
     "slide_type": "fragment"
    }
   },
   "source": [
    "#### 1 milliard de lignes et 300 colonnes!!!!!"
   ]
  },
  {
   "cell_type": "markdown",
   "metadata": {
    "slideshow": {
     "slide_type": "fragment"
    }
   },
   "source": [
    "Difficile d'être paré à toute éventualité"
   ]
  },
  {
   "cell_type": "markdown",
   "metadata": {
    "slideshow": {
     "slide_type": "subslide"
    }
   },
   "source": [
    "## Difficultés"
   ]
  },
  {
   "cell_type": "markdown",
   "metadata": {
    "slideshow": {
     "slide_type": "fragment"
    }
   },
   "source": [
    "- bugs de calculs dans l'application!\n",
    "\n",
    "- bugs de calculs lors de l'écriture dans la db!\n",
    "\n",
    "- bugs d'écriture dans la db!\n",
    "\n",
    "- bugs d'extraction de données!"
   ]
  },
  {
   "cell_type": "markdown",
   "metadata": {
    "slideshow": {
     "slide_type": "fragment"
    }
   },
   "source": [
    "**l'effet est polynomial** (voir exponentiel)"
   ]
  },
  {
   "cell_type": "markdown",
   "metadata": {
    "slideshow": {
     "slide_type": "subslide"
    }
   },
   "source": [
    "## Diagnostique approfondi et nettoyage"
   ]
  },
  {
   "cell_type": "markdown",
   "metadata": {
    "slideshow": {
     "slide_type": "fragment"
    }
   },
   "source": [
    "- exploration graphique de la base de données (distribution des variables, etc)\n",
    "\n",
    "- identifications des données extrêmes\n",
    "\n",
    "- identifications des données abherrantes"
   ]
  },
  {
   "cell_type": "markdown",
   "metadata": {
    "slideshow": {
     "slide_type": "subslide"
    }
   },
   "source": [
    "## Compétences reliées à cette étape"
   ]
  },
  {
   "cell_type": "markdown",
   "metadata": {
    "slideshow": {
     "slide_type": "fragment"
    }
   },
   "source": [
    "- expérience en SQL, bases de données en colonne\n",
    "\n",
    "- (Python | R) intermédiaire\n",
    "\n",
    "- statistiques de base"
   ]
  },
  {
   "cell_type": "markdown",
   "metadata": {
    "slideshow": {
     "slide_type": "slide"
    }
   },
   "source": [
    "# Mise en forme et préparation des données"
   ]
  },
  {
   "cell_type": "markdown",
   "metadata": {
    "slideshow": {
     "slide_type": "subslide"
    }
   },
   "source": [
    "## Que veut-on?"
   ]
  },
  {
   "cell_type": "markdown",
   "metadata": {
    "slideshow": {
     "slide_type": "fragment"
    }
   },
   "source": [
    "- plein d'informations intéressantes concernant **chaque** individu (variables de contrôle)\n",
    "\n",
    "- un indicateur de groupe d'appartenance (aux différentes configs, notre variable d'intérêt)\n",
    "\n",
    "- un indicateur pour savoir si le client est mort (n'utilise plus l'application)\n",
    "\n",
    "- plusieurs observations du même individu\n",
    "\n",
    "- les données aggrégées"
   ]
  },
  {
   "cell_type": "markdown",
   "metadata": {
    "slideshow": {
     "slide_type": "subslide"
    }
   },
   "source": [
    "## Gérer un gros volume de données"
   ]
  },
  {
   "cell_type": "markdown",
   "metadata": {
    "slideshow": {
     "slide_type": "fragment"
    }
   },
   "source": [
    "On ne pourra pas tout analyser d'un coup, il faut le faire **par morceaux** ou utiliser des **échantillons**.\n",
    "\n",
    "Pour autant de données la base de données doit être **distribuée** (plusieurs machines)."
   ]
  },
  {
   "cell_type": "markdown",
   "metadata": {
    "slideshow": {
     "slide_type": "fragment"
    }
   },
   "source": [
    "- construire des outils (bibliothèques, classes, fonctions) pour ne pas réécrire le même code\n",
    "\n",
    "- gérer le parallélisme de manière efficace pour que ces étapes soient rapides\n"
   ]
  },
  {
   "cell_type": "markdown",
   "metadata": {
    "slideshow": {
     "slide_type": "subslide"
    }
   },
   "source": [
    "## Preprocessing des données"
   ]
  },
  {
   "cell_type": "markdown",
   "metadata": {
    "slideshow": {
     "slide_type": "fragment"
    }
   },
   "source": [
    "Comment trouver les éléments importants dans un jeu de données?"
   ]
  },
  {
   "cell_type": "markdown",
   "metadata": {
    "slideshow": {
     "slide_type": "fragment"
    }
   },
   "source": [
    "Comment organiser ces éléments afin de mieux résoudre les tâches de prédiction?"
   ]
  },
  {
   "cell_type": "markdown",
   "metadata": {
    "slideshow": {
     "slide_type": "subslide"
    }
   },
   "source": [
    "### Choisir des variables qui ont du sens à la main.\n",
    "\n",
    "**Avantages:**\n",
    "- plus facile à interpréter\n",
    "- plus facile a justifier\n",
    "    \n",
    "**Inconvénients:**\n",
    "- long et fastidieux\n",
    "- il faut très bien connaitre le contexte\n",
    "- il faut très bien connaitre la base de données"
   ]
  },
  {
   "cell_type": "markdown",
   "metadata": {
    "slideshow": {
     "slide_type": "subslide"
    }
   },
   "source": [
    "### Sélectionner automatiquement des variables:\n",
    "- exemple R: package [caret](http://topepo.github.io/caret/index.html)\n",
    "- exemple Python: package [scikit-learn](http://scikit-learn.org/stable/)"
   ]
  },
  {
   "cell_type": "markdown",
   "metadata": {
    "slideshow": {
     "slide_type": "subslide"
    }
   },
   "source": [
    "## Créer de nouvelles variables"
   ]
  },
  {
   "cell_type": "markdown",
   "metadata": {
    "slideshow": {
     "slide_type": "fragment"
    }
   },
   "source": [
    "Pourquoi?"
   ]
  },
  {
   "cell_type": "code",
   "execution_count": 4,
   "metadata": {
    "collapsed": false,
    "slideshow": {
     "slide_type": "fragment"
    }
   },
   "outputs": [
    {
     "data": {
      "text/html": [
       "\n",
       "        <iframe\n",
       "            width=\"640\"\n",
       "            height=\"480\"\n",
       "            src=\"https://www.youtube.com/embed/9NrALgHFwTo\"\n",
       "            frameborder=\"0\"\n",
       "            allowfullscreen\n",
       "        ></iframe>\n",
       "        "
      ],
      "text/plain": [
       "<IPython.lib.display.YouTubeVideo at 0x3b9c358>"
      ]
     },
     "execution_count": 4,
     "metadata": {},
     "output_type": "execute_result"
    }
   ],
   "source": [
    "from IPython.display import YouTubeVideo\n",
    "YouTubeVideo(\"9NrALgHFwTo\", width=640, height=480)"
   ]
  },
  {
   "cell_type": "markdown",
   "metadata": {
    "slideshow": {
     "slide_type": "slide"
    }
   },
   "source": [
    "# Modélisation de la LTV"
   ]
  },
  {
   "cell_type": "markdown",
   "metadata": {
    "slideshow": {
     "slide_type": "subslide"
    }
   },
   "source": [
    "## A quoi ca va servir?"
   ]
  },
  {
   "cell_type": "markdown",
   "metadata": {
    "slideshow": {
     "slide_type": "fragment"
    }
   },
   "source": [
    "**\"On veut voir évoluer la LTV pour décider si on distribue la configuration à plus de monde\"**"
   ]
  },
  {
   "cell_type": "markdown",
   "metadata": {
    "slideshow": {
     "slide_type": "fragment"
    }
   },
   "source": [
    "C'est un cas de **prédiction** et nous aimerions avoir les **meilleures performances** possibles!"
   ]
  },
  {
   "cell_type": "markdown",
   "metadata": {
    "slideshow": {
     "slide_type": "fragment"
    }
   },
   "source": [
    "Petit flashback sur la création de la variable binaire mort du client.\n",
    "\n",
    "Comment décider quand un client est mort?"
   ]
  },
  {
   "cell_type": "markdown",
   "metadata": {
    "slideshow": {
     "slide_type": "fragment"
    }
   },
   "source": [
    "**\"Un user, c'est mort au bout de 10 jours\"**"
   ]
  },
  {
   "cell_type": "markdown",
   "metadata": {
    "slideshow": {
     "slide_type": "subslide"
    }
   },
   "source": [
    "## Comment va-t-on calculer la LTV?"
   ]
  },
  {
   "cell_type": "markdown",
   "metadata": {
    "slideshow": {
     "slide_type": "fragment"
    }
   },
   "source": [
    "Nous avons privilégié une approche par user:\n",
    "- $E(LTV)_i= \\sum_t^T p(mort)_{it}*revenus_{it}$\n",
    "\n",
    "ou $i=1, ...,n$ correspond au client et $t=1, ..., T$ à la période."
   ]
  },
  {
   "cell_type": "markdown",
   "metadata": {
    "slideshow": {
     "slide_type": "fragment"
    }
   },
   "source": [
    "- un modèle pour prédire le churn $p(mort)$\n",
    "\n",
    "- un modèle pour prédire les revenus"
   ]
  },
  {
   "cell_type": "markdown",
   "metadata": {
    "slideshow": {
     "slide_type": "fragment"
    }
   },
   "source": [
    "On teste:\n",
    "- forêts aléatoires (churn, revenus)\n",
    "\n",
    "- modèles de séries temporelles (revenus)\n",
    "\n",
    "- réseaux de neurones profonds (churn et revenus conjointement)"
   ]
  },
  {
   "cell_type": "markdown",
   "metadata": {
    "slideshow": {
     "slide_type": "subslide"
    }
   },
   "source": [
    "## Visualisations"
   ]
  },
  {
   "cell_type": "markdown",
   "metadata": {
    "slideshow": {
     "slide_type": "fragment"
    }
   },
   "source": [
    "Le choix des visualisations est **important**!"
   ]
  },
  {
   "cell_type": "markdown",
   "metadata": {
    "slideshow": {
     "slide_type": "fragment"
    }
   },
   "source": [
    "Il faut donc sélectionner les bons outils:\n",
    "\n",
    "- [ggplot2 R](http://ggplot2.org/), [ggplot2 Python](http://ggplot.yhathq.com/)\n",
    "\n",
    "- [bokeh (Python)](http://bokeh.pydata.org/en/latest/)\n",
    "\n",
    "- [Plotly (Python, R, Excel, etc)](https://plot.ly/)"
   ]
  },
  {
   "cell_type": "code",
   "execution_count": 12,
   "metadata": {
    "collapsed": false,
    "slideshow": {
     "slide_type": "subslide"
    }
   },
   "outputs": [
    {
     "data": {
      "text/html": [
       "<iframe width=\"280px\" height=\"271px\" src=\"https://www.yumpu.com/en/embed/view/ve85SbrJwiKQEC4B\" frameborder=\"0\" allowfullscreen=\"true\" allowtransparency=\"true\"></iframe>"
      ],
      "text/plain": [
       "<IPython.core.display.HTML object>"
      ]
     },
     "execution_count": 12,
     "metadata": {},
     "output_type": "execute_result"
    }
   ],
   "source": [
    "from IPython.display import HTML\n",
    "HTML('<iframe width=\"280px\" height=\"271px\" src=\"https://www.yumpu.com/en/embed/view/ve85SbrJwiKQEC4B\" '\n",
    "     'frameborder=\"0\" allowfullscreen=\"true\" allowtransparency=\"true\"></iframe>')"
   ]
  },
  {
   "cell_type": "markdown",
   "metadata": {
    "collapsed": true,
    "slideshow": {
     "slide_type": "slide"
    }
   },
   "source": [
    "# Formation à l'outil et documentation | SAV"
   ]
  },
  {
   "cell_type": "markdown",
   "metadata": {
    "collapsed": true,
    "slideshow": {
     "slide_type": "subslide"
    }
   },
   "source": [
    "- Préparez des tutoriels complets sur l'outil\n",
    "- Créez une documentation ([Sphinx](http://www.sphinx-doc.org/en/stable/))"
   ]
  },
  {
   "cell_type": "markdown",
   "metadata": {
    "collapsed": true,
    "slideshow": {
     "slide_type": "fragment"
    }
   },
   "source": [
    "- préparez vous à affronter des séries de questions et des courriels pointant les bugs!"
   ]
  },
  {
   "cell_type": "markdown",
   "metadata": {
    "collapsed": true,
    "slideshow": {
     "slide_type": "slide"
    }
   },
   "source": [
    "# Bonus: Deep Learning"
   ]
  },
  {
   "cell_type": "markdown",
   "metadata": {
    "slideshow": {
     "slide_type": "subslide"
    }
   },
   "source": [
    "## bibliothèques"
   ]
  },
  {
   "cell_type": "markdown",
   "metadata": {
    "slideshow": {
     "slide_type": "subslide"
    }
   },
   "source": [
    "#### calculs efficace sur CPU et GPU\n",
    "Bibliothèque bas niveau (C, C++, CUDA), qui implémente des outils de différenciation automatique (gradient) et des operateurs utilisés en machine learning:\n",
    "- [Theano (développé à l'Udem!)](https://github.com/Theano/Theano)\n",
    "- [TensorFlow (dévelopé par Google)](https://github.com/tensorflow/tensorflow)\n",
    "\n",
    "#### implémentation de modèles:\n",
    "Bibliothèque un peu plus haut niveau avec laquelle on construit des modèles par modules:\n",
    "\n",
    "- [Keras (posez moi des questions, je contribue régulièrement sur le package)](https://github.com/fchollet/keras)\n",
    "- [Lasagne](https://github.com/Lasagne/Lasagne)"
   ]
  },
  {
   "cell_type": "markdown",
   "metadata": {
    "slideshow": {
     "slide_type": "subslide"
    }
   },
   "source": [
    "## Exemples"
   ]
  },
  {
   "cell_type": "code",
   "execution_count": 1,
   "metadata": {
    "collapsed": false,
    "slideshow": {
     "slide_type": "subslide"
    }
   },
   "outputs": [
    {
     "data": {
      "text/html": [
       "\n",
       "        <iframe\n",
       "            width=\"640\"\n",
       "            height=\"480\"\n",
       "            src=\"https://www.youtube.com/embed/cm2VlEGNz5A\"\n",
       "            frameborder=\"0\"\n",
       "            allowfullscreen\n",
       "        ></iframe>\n",
       "        "
      ],
      "text/plain": [
       "<IPython.lib.display.YouTubeVideo at 0x3b4ddd8>"
      ]
     },
     "execution_count": 1,
     "metadata": {},
     "output_type": "execute_result"
    }
   ],
   "source": [
    "from IPython.display import YouTubeVideo\n",
    "YouTubeVideo(\"cm2VlEGNz5A\", width=640, height=480)"
   ]
  },
  {
   "cell_type": "code",
   "execution_count": 2,
   "metadata": {
    "collapsed": false,
    "slideshow": {
     "slide_type": "subslide"
    }
   },
   "outputs": [
    {
     "data": {
      "text/html": [
       "\n",
       "        <iframe\n",
       "            width=\"640\"\n",
       "            height=\"480\"\n",
       "            src=\"https://www.youtube.com/embed/UPVvd8WNUks\"\n",
       "            frameborder=\"0\"\n",
       "            allowfullscreen\n",
       "        ></iframe>\n",
       "        "
      ],
      "text/plain": [
       "<IPython.lib.display.YouTubeVideo at 0x3b5c358>"
      ]
     },
     "execution_count": 2,
     "metadata": {},
     "output_type": "execute_result"
    }
   ],
   "source": [
    "from IPython.display import YouTubeVideo\n",
    "YouTubeVideo(\"UPVvd8WNUks\", width=640, height=480)"
   ]
  },
  {
   "cell_type": "code",
   "execution_count": 3,
   "metadata": {
    "collapsed": false,
    "slideshow": {
     "slide_type": "subslide"
    }
   },
   "outputs": [
    {
     "data": {
      "text/html": [
       "\n",
       "        <iframe\n",
       "            width=\"640\"\n",
       "            height=\"480\"\n",
       "            src=\"https://www.youtube.com/embed/i-2JN01hniM\"\n",
       "            frameborder=\"0\"\n",
       "            allowfullscreen\n",
       "        ></iframe>\n",
       "        "
      ],
      "text/plain": [
       "<IPython.lib.display.YouTubeVideo at 0x3b5c470>"
      ]
     },
     "execution_count": 3,
     "metadata": {},
     "output_type": "execute_result"
    }
   ],
   "source": [
    "from IPython.display import YouTubeVideo\n",
    "YouTubeVideo(\"i-2JN01hniM\", width=640, height=480)"
   ]
  },
  {
   "cell_type": "code",
   "execution_count": 4,
   "metadata": {
    "collapsed": false,
    "slideshow": {
     "slide_type": "subslide"
    }
   },
   "outputs": [
    {
     "data": {
      "text/html": [
       "\n",
       "        <iframe\n",
       "            width=\"640\"\n",
       "            height=\"480\"\n",
       "            src=\"https://player.vimeo.com/video/146492001\"\n",
       "            frameborder=\"0\"\n",
       "            allowfullscreen\n",
       "        ></iframe>\n",
       "        "
      ],
      "text/plain": [
       "<IPython.lib.display.VimeoVideo at 0x3b5c400>"
      ]
     },
     "execution_count": 4,
     "metadata": {},
     "output_type": "execute_result"
    }
   ],
   "source": [
    "from IPython.display import VimeoVideo\n",
    "VimeoVideo(\"146492001\", width=640, height=480)"
   ]
  },
  {
   "cell_type": "code",
   "execution_count": null,
   "metadata": {
    "collapsed": true
   },
   "outputs": [],
   "source": []
  }
 ],
 "metadata": {
  "celltoolbar": "Slideshow",
  "kernelspec": {
   "display_name": "Python 2",
   "language": "python",
   "name": "python2"
  },
  "language_info": {
   "codemirror_mode": {
    "name": "ipython",
    "version": 2
   },
   "file_extension": ".py",
   "mimetype": "text/x-python",
   "name": "python",
   "nbconvert_exporter": "python",
   "pygments_lexer": "ipython2",
   "version": "2.7.10"
  }
 },
 "nbformat": 4,
 "nbformat_minor": 0
}
