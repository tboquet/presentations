{
 "cells": [
  {
   "cell_type": "code",
   "execution_count": 11,
   "metadata": {
    "collapsed": false,
    "slideshow": {
     "slide_type": "skip"
    }
   },
   "outputs": [],
   "source": [
    "# !pip install -U pytest"
   ]
  },
  {
   "cell_type": "markdown",
   "metadata": {
    "slideshow": {
     "slide_type": "slide"
    }
   },
   "source": [
    "# Pytest intro"
   ]
  },
  {
   "cell_type": "markdown",
   "metadata": {
    "slideshow": {
     "slide_type": "slide"
    }
   },
   "source": [
    "## What is pytest?"
   ]
  },
  {
   "cell_type": "markdown",
   "metadata": {
    "slideshow": {
     "slide_type": "fragment"
    }
   },
   "source": [
    "- a test runner:\n",
    "\n",
    "\"The pytest framework makes it easy to write small tests, yet scales to support complex functional testing for applications and libraries.\""
   ]
  },
  {
   "cell_type": "markdown",
   "metadata": {
    "slideshow": {
     "slide_type": "slide"
    }
   },
   "source": [
    "##  Why pytest?"
   ]
  },
  {
   "cell_type": "markdown",
   "metadata": {
    "slideshow": {
     "slide_type": "fragment"
    }
   },
   "source": [
    "- simple enough to be learnt in 1 day\n",
    "- many functionnalities that cover a lot of needs\n",
    "- integration with coveralls, codecov, etc"
   ]
  },
  {
   "cell_type": "markdown",
   "metadata": {
    "slideshow": {
     "slide_type": "slide"
    }
   },
   "source": [
    "## Simple test"
   ]
  },
  {
   "cell_type": "code",
   "execution_count": 12,
   "metadata": {
    "collapsed": true,
    "slideshow": {
     "slide_type": "fragment"
    }
   },
   "outputs": [],
   "source": [
    "# content of test_sample.py\n",
    "def func(x):\n",
    "    return x + 1\n",
    "\n",
    "def test_answer():\n",
    "    assert func(3) == 5"
   ]
  },
  {
   "cell_type": "raw",
   "metadata": {
    "slideshow": {
     "slide_type": "fragment"
    }
   },
   "source": [
    "$ pytest\n",
    "======= test session starts ========\n",
    "platform linux -- Python 3.5.2, pytest-3.0.6, py-1.4.33, pluggy-0.4.0\n",
    "rootdir: $REGENDOC_TMPDIR, inifile:\n",
    "collected 1 items\n",
    "\n",
    "test_sample.py F\n",
    "\n",
    "======= FAILURES ========\n",
    "_______ test_answer ________\n",
    "\n",
    "    def test_answer():\n",
    ">       assert func(3) == 5\n",
    "E       assert 4 == 5\n",
    "E        +  where 4 = func(3)\n",
    "\n",
    "test_sample.py:5: AssertionError\n",
    "======= 1 failed in 0.12 seconds ========"
   ]
  },
  {
   "cell_type": "markdown",
   "metadata": {
    "slideshow": {
     "slide_type": "slide"
    }
   },
   "source": [
    "## Test class"
   ]
  },
  {
   "cell_type": "code",
   "execution_count": 13,
   "metadata": {
    "collapsed": true,
    "slideshow": {
     "slide_type": "fragment"
    }
   },
   "outputs": [],
   "source": [
    "# content of test_class.py\n",
    "class TestClass:\n",
    "    def test_one(self):\n",
    "        x = \"this\"\n",
    "        assert 'h' in x\n",
    "\n",
    "    def test_two(self):\n",
    "        x = \"hello\"\n",
    "        assert hasattr(x, 'check')"
   ]
  },
  {
   "cell_type": "raw",
   "metadata": {
    "slideshow": {
     "slide_type": "fragment"
    }
   },
   "source": [
    "$ pytest -q test_class.py\n",
    ".F\n",
    "======= FAILURES ========\n",
    "_______ TestClass.test_two ________\n",
    "\n",
    "self = <test_class.TestClass object at 0xdeadbeef>\n",
    "\n",
    "    def test_two(self):\n",
    "        x = \"hello\"\n",
    ">       assert hasattr(x, 'check')\n",
    "E       assert False\n",
    "E        +  where False = hasattr('hello', 'check')\n",
    "\n",
    "test_class.py:8: AssertionError\n",
    "1 failed, 1 passed in 0.12 seconds"
   ]
  },
  {
   "cell_type": "markdown",
   "metadata": {
    "slideshow": {
     "slide_type": "slide"
    }
   },
   "source": [
    "## Functionnalities"
   ]
  },
  {
   "cell_type": "markdown",
   "metadata": {
    "slideshow": {
     "slide_type": "fragment"
    }
   },
   "source": [
    "- `-k regexp`\n",
    "- `--durations=n`\n",
    "- `pytest.mark.skip` and `pytest.mark.skipif`\n",
    "- fixtures"
   ]
  },
  {
   "cell_type": "markdown",
   "metadata": {
    "slideshow": {
     "slide_type": "slide"
    }
   },
   "source": [
    "### Run selected tests with a regexp"
   ]
  },
  {
   "cell_type": "raw",
   "metadata": {
    "slideshow": {
     "slide_type": "fragment"
    }
   },
   "source": [
    "$ pytest -v -k http  # running with the above defined example module\n",
    "======= test session starts ========\n",
    "platform linux -- Python 3.5.2, pytest-3.0.6, py-1.4.33, pluggy-0.4.0 -- $PYTHON_PREFIX/bin/python3.5m\n",
    "cachedir: .cache\n",
    "rootdir: $REGENDOC_TMPDIR, inifile:\n",
    "collecting ... collected 4 items\n",
    "\n",
    "test_server.py::test_send_http PASSED\n",
    "\n",
    "======= 3 tests deselected ========\n",
    "======= 1 passed, 3 deselected in 0.12 seconds ========"
   ]
  },
  {
   "cell_type": "markdown",
   "metadata": {
    "slideshow": {
     "slide_type": "slide"
    }
   },
   "source": [
    "### Profile test duration"
   ]
  },
  {
   "cell_type": "code",
   "execution_count": 14,
   "metadata": {
    "collapsed": true,
    "slideshow": {
     "slide_type": "fragment"
    }
   },
   "outputs": [],
   "source": [
    "# content of test_some_are_slow.py\n",
    "import time\n",
    "\n",
    "def test_funcfast():\n",
    "    pass\n",
    "\n",
    "def test_funcslow1():\n",
    "    time.sleep(0.1)\n",
    "\n",
    "def test_funcslow2():\n",
    "    time.sleep(0.2)"
   ]
  },
  {
   "cell_type": "raw",
   "metadata": {
    "slideshow": {
     "slide_type": "fragment"
    }
   },
   "source": [
    "$ pytest --durations=3\n",
    "======= test session starts ========\n",
    "platform linux -- Python 3.5.2, pytest-3.0.6, py-1.4.33, pluggy-0.4.0\n",
    "rootdir: $REGENDOC_TMPDIR, inifile:\n",
    "collected 3 items\n",
    "\n",
    "test_some_are_slow.py ...\n",
    "\n",
    "======= slowest 3 test durations ========\n",
    "0.20s call     test_some_are_slow.py::test_funcslow2\n",
    "0.10s call     test_some_are_slow.py::test_funcslow1\n",
    "0.00s setup    test_some_are_slow.py::test_funcfast\n",
    "======= 3 passed in 0.12 seconds ========"
   ]
  },
  {
   "cell_type": "markdown",
   "metadata": {
    "slideshow": {
     "slide_type": "slide"
    }
   },
   "source": [
    "### Skip tests with `skip` or `skipif`"
   ]
  },
  {
   "cell_type": "code",
   "execution_count": 15,
   "metadata": {
    "collapsed": false,
    "slideshow": {
     "slide_type": "fragment"
    }
   },
   "outputs": [],
   "source": [
    "import pytest\n",
    "\n",
    "@pytest.mark.skip(reason=\"no way of currently testing this\")\n",
    "def test_the_unknown():\n",
    "    pass\n",
    "\n",
    "import sys\n",
    "@pytest.mark.skipif(sys.version_info < (3,3),\n",
    "                    reason=\"requires python3.3\")\n",
    "def test_function():\n",
    "    pass"
   ]
  },
  {
   "cell_type": "markdown",
   "metadata": {
    "slideshow": {
     "slide_type": "slide"
    }
   },
   "source": [
    "## Applied example"
   ]
  },
  {
   "cell_type": "markdown",
   "metadata": {
    "slideshow": {
     "slide_type": "fragment"
    }
   },
   "source": [
    "[code](https://github.com/tboquet/python-alp/blob/master/tests/backend/test_keras_backend.py#L188-L215)\n",
    "\n",
    "[tests results](https://travis-ci.org/tboquet/python-alp/jobs/200229153#L635)"
   ]
  },
  {
   "cell_type": "markdown",
   "metadata": {
    "slideshow": {
     "slide_type": "slide"
    }
   },
   "source": [
    "# Thank you!"
   ]
  }
 ],
 "metadata": {
  "celltoolbar": "Slideshow",
  "kernelspec": {
   "display_name": "Python 2",
   "language": "python",
   "name": "python2"
  },
  "language_info": {
   "codemirror_mode": {
    "name": "ipython",
    "version": 2
   },
   "file_extension": ".py",
   "mimetype": "text/x-python",
   "name": "python",
   "nbconvert_exporter": "python",
   "pygments_lexer": "ipython2",
   "version": "2.7.13"
  }
 },
 "nbformat": 4,
 "nbformat_minor": 2
}
