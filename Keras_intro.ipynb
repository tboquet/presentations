{
 "cells": [
  {
   "cell_type": "markdown",
   "metadata": {
    "slideshow": {
     "slide_type": "slide"
    }
   },
   "source": [
    "# Introduction to Keras\n",
    "\n",
    "Thomas Boquet: [@tboquet](https://github.com/tboquet) on github"
   ]
  },
  {
   "cell_type": "markdown",
   "metadata": {
    "slideshow": {
     "slide_type": "fragment"
    }
   },
   "source": [
    "##### 1. How to choose a deep learning library?\n",
    "##### 2. Libraries landscape\n",
    "##### 3. What is Keras?\n",
    "##### 4. Why Keras?\n",
    "##### 5. Sequential API\n",
    "##### 6. Functionnal API\n",
    "##### 7. Conclusion\n",
    "##### 8. Other ressources"
   ]
  },
  {
   "cell_type": "markdown",
   "metadata": {
    "slideshow": {
     "slide_type": "slide"
    }
   },
   "source": [
    "# How to choose a deep learning library?"
   ]
  },
  {
   "cell_type": "markdown",
   "metadata": {
    "slideshow": {
     "slide_type": "fragment"
    }
   },
   "source": [
    "Before:\n",
    "\n",
    "- be familiar with the underlying concepts covered by the tool\n",
    "- think about your goals (research, production, learning) \n",
    "\n",
    "Main concerns:\n",
    "\n",
    "- supported and used by a lot of people\n",
    "- already in production in some companies\n",
    "- will be alive for several years\n",
    "- active contributors\n"
   ]
  },
  {
   "cell_type": "markdown",
   "metadata": {
    "slideshow": {
     "slide_type": "slide"
    }
   },
   "source": [
    "# Libraries landscape?"
   ]
  },
  {
   "cell_type": "markdown",
   "metadata": {
    "slideshow": {
     "slide_type": "fragment"
    }
   },
   "source": [
    "TODO: links\n",
    "- Lasagne (Theano)\n",
    "- Blocks (Theano)\n",
    "- Pretty tensor (TensorFlow)\n",
    "- Skflow (TensorFlow)\n",
    "- MxNet (MxNet backend)\n",
    "- Cunn, nn, autograd (Torch, CuTorch)\n",
    "- Darknet (Darknet backend)\n",
    "- etc."
   ]
  },
  {
   "cell_type": "markdown",
   "metadata": {
    "slideshow": {
     "slide_type": "slide"
    }
   },
   "source": [
    "# What is Keras? "
   ]
  },
  {
   "cell_type": "markdown",
   "metadata": {
    "slideshow": {
     "slide_type": "fragment"
    }
   },
   "source": [
    "- \"Keras is a high-level neural networks library, written in Python and capable of running on top of either TensorFlow or Theano\"\n",
    "- different from Theano, Tensorflow, Neon\n",
    "- Keras has its own backend wrapping these 2 libraries\n",
    "- shorten length between ideas and results, implementation and production"
   ]
  },
  {
   "cell_type": "markdown",
   "metadata": {
    "slideshow": {
     "slide_type": "slide"
    }
   },
   "source": [
    "# Tensorflow Backend"
   ]
  },
  {
   "cell_type": "code",
   "execution_count": 2,
   "metadata": {
    "collapsed": true,
    "slideshow": {
     "slide_type": "fragment"
    }
   },
   "outputs": [],
   "source": [
    "def dot(x, y):\n",
    "    '''Multiplies 2 tensors.\n",
    "    When attempting to multiply a ND tensor\n",
    "    with a ND tensor, reproduces the Theano behavior\n",
    "    (e.g. (2, 3).(4, 3, 5) = (2, 4, 5))\n",
    "    '''\n",
    "    if ndim(x) is not None and (ndim(x) > 2 or ndim(y) > 2):\n",
    "        x_shape = (-1,) + int_shape(x)[1:]\n",
    "        y_shape = int_shape(y)\n",
    "        y_permute_dim = list(range(ndim(y)))\n",
    "        y_permute_dim = [y_permute_dim.pop(-2)] + y_permute_dim\n",
    "        xt = tf.reshape(x, [-1, x_shape[-1]])\n",
    "        yt = tf.reshape(tf.transpose(y, perm=y_permute_dim), [y_shape[-2], -1])\n",
    "        return tf.reshape(tf.matmul(xt, yt), x_shape[:-1] + y_shape[:-2] + y_shape[-1:])\n",
    "    if is_sparse(x):\n",
    "        out = tf.sparse_tensor_dense_matmul(x, y)\n",
    "    else:\n",
    "        out = tf.matmul(x, y)\n",
    "    return out"
   ]
  },
  {
   "cell_type": "markdown",
   "metadata": {
    "slideshow": {
     "slide_type": "slide"
    }
   },
   "source": [
    "# Theano Backend "
   ]
  },
  {
   "cell_type": "code",
   "execution_count": 3,
   "metadata": {
    "collapsed": true,
    "slideshow": {
     "slide_type": "fragment"
    }
   },
   "outputs": [],
   "source": [
    "def dot(x, y):\n",
    "    if is_sparse(x):\n",
    "        return th_sparse_module.basic.structured_dot(x, y)\n",
    "    else:\n",
    "        return T.dot(x, y)"
   ]
  },
  {
   "cell_type": "markdown",
   "metadata": {
    "slideshow": {
     "slide_type": "slide"
    }
   },
   "source": [
    "# Why Keras?"
   ]
  },
  {
   "cell_type": "markdown",
   "metadata": {
    "slideshow": {
     "slide_type": "fragment"
    }
   },
   "source": [
    "- simple torch like syntax\n",
    "- functionnal api (flexible)\n",
    "- lots of examples and projects built with Keras\n",
    "- research and production ready\n",
    "- built-in tools (model and parameters serialization, callbacks, etc.)\n",
    "- easily abstract ideas"
   ]
  },
  {
   "cell_type": "markdown",
   "metadata": {
    "slideshow": {
     "slide_type": "slide"
    }
   },
   "source": [
    "# Sequential API"
   ]
  },
  {
   "cell_type": "code",
   "execution_count": 4,
   "metadata": {
    "collapsed": false,
    "slideshow": {
     "slide_type": "fragment"
    }
   },
   "outputs": [
    {
     "name": "stderr",
     "output_type": "stream",
     "text": [
      "Using TensorFlow backend.\n"
     ]
    }
   ],
   "source": [
    "from keras.models import Sequential"
   ]
  },
  {
   "cell_type": "code",
   "execution_count": 34,
   "metadata": {
    "collapsed": false,
    "slideshow": {
     "slide_type": "skip"
    }
   },
   "outputs": [
    {
     "name": "stdout",
     "output_type": "stream",
     "text": [
      "X_train shape: (60000, 28, 28)\n",
      "60000 train samples\n",
      "10000 test samples\n"
     ]
    }
   ],
   "source": [
    "from __future__ import print_function\n",
    "import numpy as np\n",
    "np.random.seed(1337)  # for reproducibility\n",
    "\n",
    "from keras.datasets import mnist\n",
    "from keras.models import Sequential\n",
    "from keras.layers import Dense, Dropout, Activation, Flatten\n",
    "from keras.layers import Convolution2D, MaxPooling2D\n",
    "from keras.utils import np_utils\n",
    "from keras import backend as K\n",
    "import matplotlib.pyplot as plt\n",
    "plt.style.use('ggplot')\n",
    "\n",
    "batch_size = 128\n",
    "nb_classes = 10\n",
    "nb_epoch = 12\n",
    "\n",
    "input_shape = (img_rows, img_cols, 1)\n",
    "\n",
    "# input image dimensions\n",
    "img_rows, img_cols = 28, 28\n",
    "# number of convolutional filters to use\n",
    "nb_filters = 32\n",
    "# size of pooling area for max pooling\n",
    "pool_size = (2, 2)\n",
    "# convolution kernel size\n",
    "kernel_size = (3, 3)\n",
    "\n",
    "# the data, shuffled and split between train and test sets\n",
    "(X_train, y_train), (X_test, y_test) = mnist.load_data()\n",
    "\n",
    "X_train = X_train.astype('float32')\n",
    "X_test = X_test.astype('float32')\n",
    "X_train /= 255\n",
    "X_test /= 255\n",
    "print('X_train shape:', X_train.shape)\n",
    "print(X_train.shape[0], 'train samples')\n",
    "print(X_test.shape[0], 'test samples')\n",
    "\n",
    "# convert class vectors to binary class matrices\n",
    "Y_train = np_utils.to_categorical(y_train, nb_classes)\n",
    "Y_test = np_utils.to_categorical(y_test, nb_classes)"
   ]
  },
  {
   "cell_type": "code",
   "execution_count": 28,
   "metadata": {
    "collapsed": false,
    "slideshow": {
     "slide_type": "slide"
    }
   },
   "outputs": [],
   "source": [
    "X_train_f = X_train.reshape(-1, 28 * 28)\n",
    "X_test_f = X_test.reshape(-1, 28 * 28)\n",
    "\n",
    "mult_logistic = Sequential()\n",
    "mult_logistic.add(Dense(512, input_shape=(28 * 28,), name=\"hidden_layer_1\"))\n",
    "mult_logistic.add(Dense(256, input_shape=(28 * 28,), name=\"hidden_layer_2\"))\n",
    "mult_logistic.add(Dense(10, input_shape=(28 * 28,), name=\"output_layer\"))\n",
    "mult_logistic.add(Activation('softmax'))\n",
    "mult_logistic.compile(loss='categorical_crossentropy',\n",
    "                      optimizer='sgd',\n",
    "                      metrics=['accuracy'])"
   ]
  },
  {
   "cell_type": "code",
   "execution_count": 29,
   "metadata": {
    "collapsed": true,
    "slideshow": {
     "slide_type": "skip"
    }
   },
   "outputs": [],
   "source": [
    "from IPython.display import Image\n",
    "from keras.utils.visualize_util import model_to_dot\n",
    "\n",
    "def vizu_model(model):\n",
    "    return Image(model_to_dot(model, show_layer_names=True, show_shapes=True).create(prog='dot', format='png'))"
   ]
  },
  {
   "cell_type": "code",
   "execution_count": 30,
   "metadata": {
    "collapsed": false,
    "slideshow": {
     "slide_type": "slide"
    }
   },
   "outputs": [
    {
     "name": "stdout",
     "output_type": "stream",
     "text": [
      "Fontconfig warning: ignoring C.UTF-8: not a valid language tag\n",
      "\n"
     ]
    },
    {
     "data": {
      "image/png": "[encoded data removed]",
      "text/plain": [
       "<IPython.core.display.Image object>"
      ]
     },
     "execution_count": 30,
     "metadata": {},
     "output_type": "execute_result"
    }
   ],
   "source": [
    "vizu_model(mult_logistic)"
   ]
  },
  {
   "cell_type": "code",
   "execution_count": 31,
   "metadata": {
    "collapsed": false,
    "slideshow": {
     "slide_type": "slide"
    }
   },
   "outputs": [],
   "source": [
    "history = mult_logistic.fit(X_train_f, Y_train, batch_size=32, nb_epoch=20,\n",
    "                            verbose=0, validation_data=(X_test_f, Y_test))"
   ]
  },
  {
   "cell_type": "code",
   "execution_count": 32,
   "metadata": {
    "collapsed": false,
    "slideshow": {
     "slide_type": "fragment"
    }
   },
   "outputs": [
    {
     "data": {
      "image/png": "[encoded data removed]",
      "text/plain": [
       "<matplotlib.figure.Figure at 0x7f147c62be50>"
      ]
     },
     "metadata": {},
     "output_type": "display_data"
    }
   ],
   "source": [
    "plt.plot(history.history['loss'])\n",
    "plt.plot(history.history['val_loss'])\n",
    "plt.show()"
   ]
  },
  {
   "cell_type": "markdown",
   "metadata": {},
   "source": [
    "# Convnet "
   ]
  },
  {
   "cell_type": "code",
   "execution_count": 36,
   "metadata": {
    "collapsed": false
   },
   "outputs": [
    {
     "name": "stdout",
     "output_type": "stream",
     "text": [
      "Train on 60000 samples, validate on 10000 samples\n",
      "Epoch 1/12\n",
      "60000/60000 [==============================] - 87s - loss: 0.4100 - acc: 0.8745 - val_loss: 0.1062 - val_acc: 0.9658\n",
      "Epoch 2/12\n",
      "60000/60000 [==============================] - 78s - loss: 0.1501 - acc: 0.9550 - val_loss: 0.0670 - val_acc: 0.9788\n",
      "Epoch 3/12\n",
      "60000/60000 [==============================] - 107s - loss: 0.1125 - acc: 0.9662 - val_loss: 0.0527 - val_acc: 0.9831\n",
      "Epoch 4/12\n",
      "60000/60000 [==============================] - 116s - loss: 0.0927 - acc: 0.9719 - val_loss: 0.0458 - val_acc: 0.9850\n",
      "Epoch 5/12\n",
      "60000/60000 [==============================] - 115s - loss: 0.0820 - acc: 0.9761 - val_loss: 0.0409 - val_acc: 0.9868\n",
      "Epoch 6/12\n",
      "60000/60000 [==============================] - 116s - loss: 0.0730 - acc: 0.9785 - val_loss: 0.0396 - val_acc: 0.9866\n",
      "Epoch 7/12\n",
      "60000/60000 [==============================] - 115s - loss: 0.0657 - acc: 0.9811 - val_loss: 0.0377 - val_acc: 0.9882\n",
      "Epoch 8/12\n",
      "60000/60000 [==============================] - 114s - loss: 0.0618 - acc: 0.9814 - val_loss: 0.0335 - val_acc: 0.9893\n",
      "Epoch 9/12\n",
      "60000/60000 [==============================] - 115s - loss: 0.0558 - acc: 0.9832 - val_loss: 0.0319 - val_acc: 0.9891\n",
      "Epoch 10/12\n",
      "60000/60000 [==============================] - 115s - loss: 0.0532 - acc: 0.9845 - val_loss: 0.0318 - val_acc: 0.9896\n",
      "Epoch 11/12\n",
      "60000/60000 [==============================] - 114s - loss: 0.0521 - acc: 0.9843 - val_loss: 0.0315 - val_acc: 0.9893\n",
      "Epoch 12/12\n",
      "60000/60000 [==============================] - 115s - loss: 0.0511 - acc: 0.9849 - val_loss: 0.0306 - val_acc: 0.9898\n"
     ]
    },
    {
     "data": {
      "text/plain": [
       "<keras.callbacks.History at 0x7f14881eff10>"
      ]
     },
     "execution_count": 36,
     "metadata": {},
     "output_type": "execute_result"
    }
   ],
   "source": [
    "model = Sequential()\n",
    "\n",
    "model.add(Convolution2D(nb_filters, kernel_size[0], kernel_size[1],\n",
    "                        border_mode='valid',\n",
    "                        input_shape=input_shape))\n",
    "model.add(Activation('relu'))\n",
    "model.add(Convolution2D(nb_filters, kernel_size[0], kernel_size[1]))\n",
    "model.add(Activation('relu'))\n",
    "model.add(MaxPooling2D(pool_size=pool_size))\n",
    "model.add(Dropout(0.25))\n",
    "\n",
    "model.add(Flatten())\n",
    "model.add(Dense(128))\n",
    "model.add(Activation('relu'))\n",
    "model.add(Dropout(0.5))\n",
    "model.add(Dense(nb_classes))\n",
    "model.add(Activation('softmax'))\n",
    "\n",
    "model.compile(loss='categorical_crossentropy',\n",
    "              optimizer='adadelta',\n",
    "              metrics=['accuracy'])\n",
    "\n",
    "model.fit(X_train[:, :, :, None], Y_train, batch_size=batch_size, nb_epoch=nb_epoch,\n",
    "          verbose=1, validation_data=(X_test[:, :, :, None], Y_test))"
   ]
  },
  {
   "cell_type": "markdown",
   "metadata": {
    "slideshow": {
     "slide_type": "fragment"
    }
   },
   "source": [
    "# Functionnal API "
   ]
  },
  {
   "cell_type": "code",
   "execution_count": null,
   "metadata": {
    "collapsed": true
   },
   "outputs": [],
   "source": []
  },
  {
   "cell_type": "markdown",
   "metadata": {},
   "source": [
    "# Conclusion"
   ]
  },
  {
   "cell_type": "markdown",
   "metadata": {
    "slideshow": {
     "slide_type": "slide"
    }
   },
   "source": [
    "# Ressources "
   ]
  },
  {
   "cell_type": "markdown",
   "metadata": {},
   "source": [
    "- [examples from the library](https://github.com/fchollet/keras/tree/master/examples)\n",
    "- [keras-ressources](https://github.com/fchollet/keras-resources)\n",
    "- [keras-blog](https://blog.keras.io/)\n",
    "- [Deep learning with Keras (Tutorial @ EuroScipy 2016)](https://github.com/leriomaggio/deep-learning-keras-tensorflow)\n",
    "- [Deep Learning: Keras Short Tutorial [video]](https://www.youtube.com/watch?v=Tp3SaRbql4k)"
   ]
  },
  {
   "cell_type": "code",
   "execution_count": null,
   "metadata": {
    "collapsed": true
   },
   "outputs": [],
   "source": []
  }
 ],
 "metadata": {
  "anaconda-cloud": {},
  "celltoolbar": "Slideshow",
  "kernelspec": {
   "display_name": "Python [default]",
   "language": "python",
   "name": "python2"
  },
  "language_info": {
   "codemirror_mode": {
    "name": "ipython",
    "version": 2
   },
   "file_extension": ".py",
   "mimetype": "text/x-python",
   "name": "python",
   "nbconvert_exporter": "python",
   "pygments_lexer": "ipython2",
   "version": "2.7.12"
  }
 },
 "nbformat": 4,
 "nbformat_minor": 1
}
